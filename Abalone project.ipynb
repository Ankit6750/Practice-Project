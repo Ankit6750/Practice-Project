{
 "cells": [
  {
   "cell_type": "code",
   "execution_count": 134,
   "id": "2ebe63fb",
   "metadata": {},
   "outputs": [],
   "source": [
    "import pandas as pd\n",
    "import numpy as np\n",
    "import matplotlib.pyplot as plt\n",
    "%matplotlib  inline\n",
    "import seaborn as sns\n",
    "import warnings\n",
    "warnings.filterwarnings('ignore')"
   ]
  },
  {
   "cell_type": "code",
   "execution_count": 135,
   "id": "2c171253",
   "metadata": {},
   "outputs": [
    {
     "data": {
      "text/html": [
       "<div>\n",
       "<style scoped>\n",
       "    .dataframe tbody tr th:only-of-type {\n",
       "        vertical-align: middle;\n",
       "    }\n",
       "\n",
       "    .dataframe tbody tr th {\n",
       "        vertical-align: top;\n",
       "    }\n",
       "\n",
       "    .dataframe thead th {\n",
       "        text-align: right;\n",
       "    }\n",
       "</style>\n",
       "<table border=\"1\" class=\"dataframe\">\n",
       "  <thead>\n",
       "    <tr style=\"text-align: right;\">\n",
       "      <th></th>\n",
       "      <th>Sex</th>\n",
       "      <th>Length</th>\n",
       "      <th>Diameter</th>\n",
       "      <th>Height</th>\n",
       "      <th>Whole weight</th>\n",
       "      <th>Shucked weight</th>\n",
       "      <th>Viscera weight</th>\n",
       "      <th>Shell weight</th>\n",
       "      <th>Rings</th>\n",
       "    </tr>\n",
       "  </thead>\n",
       "  <tbody>\n",
       "    <tr>\n",
       "      <th>0</th>\n",
       "      <td>M</td>\n",
       "      <td>0.455</td>\n",
       "      <td>0.365</td>\n",
       "      <td>0.095</td>\n",
       "      <td>0.5140</td>\n",
       "      <td>0.2245</td>\n",
       "      <td>0.1010</td>\n",
       "      <td>0.1500</td>\n",
       "      <td>15</td>\n",
       "    </tr>\n",
       "    <tr>\n",
       "      <th>1</th>\n",
       "      <td>M</td>\n",
       "      <td>0.350</td>\n",
       "      <td>0.265</td>\n",
       "      <td>0.090</td>\n",
       "      <td>0.2255</td>\n",
       "      <td>0.0995</td>\n",
       "      <td>0.0485</td>\n",
       "      <td>0.0700</td>\n",
       "      <td>7</td>\n",
       "    </tr>\n",
       "    <tr>\n",
       "      <th>2</th>\n",
       "      <td>F</td>\n",
       "      <td>0.530</td>\n",
       "      <td>0.420</td>\n",
       "      <td>0.135</td>\n",
       "      <td>0.6770</td>\n",
       "      <td>0.2565</td>\n",
       "      <td>0.1415</td>\n",
       "      <td>0.2100</td>\n",
       "      <td>9</td>\n",
       "    </tr>\n",
       "    <tr>\n",
       "      <th>3</th>\n",
       "      <td>M</td>\n",
       "      <td>0.440</td>\n",
       "      <td>0.365</td>\n",
       "      <td>0.125</td>\n",
       "      <td>0.5160</td>\n",
       "      <td>0.2155</td>\n",
       "      <td>0.1140</td>\n",
       "      <td>0.1550</td>\n",
       "      <td>10</td>\n",
       "    </tr>\n",
       "    <tr>\n",
       "      <th>4</th>\n",
       "      <td>I</td>\n",
       "      <td>0.330</td>\n",
       "      <td>0.255</td>\n",
       "      <td>0.080</td>\n",
       "      <td>0.2050</td>\n",
       "      <td>0.0895</td>\n",
       "      <td>0.0395</td>\n",
       "      <td>0.0550</td>\n",
       "      <td>7</td>\n",
       "    </tr>\n",
       "    <tr>\n",
       "      <th>...</th>\n",
       "      <td>...</td>\n",
       "      <td>...</td>\n",
       "      <td>...</td>\n",
       "      <td>...</td>\n",
       "      <td>...</td>\n",
       "      <td>...</td>\n",
       "      <td>...</td>\n",
       "      <td>...</td>\n",
       "      <td>...</td>\n",
       "    </tr>\n",
       "    <tr>\n",
       "      <th>4172</th>\n",
       "      <td>F</td>\n",
       "      <td>0.565</td>\n",
       "      <td>0.450</td>\n",
       "      <td>0.165</td>\n",
       "      <td>0.8870</td>\n",
       "      <td>0.3700</td>\n",
       "      <td>0.2390</td>\n",
       "      <td>0.2490</td>\n",
       "      <td>11</td>\n",
       "    </tr>\n",
       "    <tr>\n",
       "      <th>4173</th>\n",
       "      <td>M</td>\n",
       "      <td>0.590</td>\n",
       "      <td>0.440</td>\n",
       "      <td>0.135</td>\n",
       "      <td>0.9660</td>\n",
       "      <td>0.4390</td>\n",
       "      <td>0.2145</td>\n",
       "      <td>0.2605</td>\n",
       "      <td>10</td>\n",
       "    </tr>\n",
       "    <tr>\n",
       "      <th>4174</th>\n",
       "      <td>M</td>\n",
       "      <td>0.600</td>\n",
       "      <td>0.475</td>\n",
       "      <td>0.205</td>\n",
       "      <td>1.1760</td>\n",
       "      <td>0.5255</td>\n",
       "      <td>0.2875</td>\n",
       "      <td>0.3080</td>\n",
       "      <td>9</td>\n",
       "    </tr>\n",
       "    <tr>\n",
       "      <th>4175</th>\n",
       "      <td>F</td>\n",
       "      <td>0.625</td>\n",
       "      <td>0.485</td>\n",
       "      <td>0.150</td>\n",
       "      <td>1.0945</td>\n",
       "      <td>0.5310</td>\n",
       "      <td>0.2610</td>\n",
       "      <td>0.2960</td>\n",
       "      <td>10</td>\n",
       "    </tr>\n",
       "    <tr>\n",
       "      <th>4176</th>\n",
       "      <td>M</td>\n",
       "      <td>0.710</td>\n",
       "      <td>0.555</td>\n",
       "      <td>0.195</td>\n",
       "      <td>1.9485</td>\n",
       "      <td>0.9455</td>\n",
       "      <td>0.3765</td>\n",
       "      <td>0.4950</td>\n",
       "      <td>12</td>\n",
       "    </tr>\n",
       "  </tbody>\n",
       "</table>\n",
       "<p>4177 rows × 9 columns</p>\n",
       "</div>"
      ],
      "text/plain": [
       "     Sex  Length  Diameter  Height  Whole weight  Shucked weight  \\\n",
       "0      M   0.455     0.365   0.095        0.5140          0.2245   \n",
       "1      M   0.350     0.265   0.090        0.2255          0.0995   \n",
       "2      F   0.530     0.420   0.135        0.6770          0.2565   \n",
       "3      M   0.440     0.365   0.125        0.5160          0.2155   \n",
       "4      I   0.330     0.255   0.080        0.2050          0.0895   \n",
       "...   ..     ...       ...     ...           ...             ...   \n",
       "4172   F   0.565     0.450   0.165        0.8870          0.3700   \n",
       "4173   M   0.590     0.440   0.135        0.9660          0.4390   \n",
       "4174   M   0.600     0.475   0.205        1.1760          0.5255   \n",
       "4175   F   0.625     0.485   0.150        1.0945          0.5310   \n",
       "4176   M   0.710     0.555   0.195        1.9485          0.9455   \n",
       "\n",
       "      Viscera weight  Shell weight  Rings  \n",
       "0             0.1010        0.1500     15  \n",
       "1             0.0485        0.0700      7  \n",
       "2             0.1415        0.2100      9  \n",
       "3             0.1140        0.1550     10  \n",
       "4             0.0395        0.0550      7  \n",
       "...              ...           ...    ...  \n",
       "4172          0.2390        0.2490     11  \n",
       "4173          0.2145        0.2605     10  \n",
       "4174          0.2875        0.3080      9  \n",
       "4175          0.2610        0.2960     10  \n",
       "4176          0.3765        0.4950     12  \n",
       "\n",
       "[4177 rows x 9 columns]"
      ]
     },
     "execution_count": 135,
     "metadata": {},
     "output_type": "execute_result"
    }
   ],
   "source": [
    "df=pd.read_csv('https://raw.githubusercontent.com/dsrscientist/dataset1/master/abalone.csv')\n",
    "df"
   ]
  },
  {
   "cell_type": "markdown",
   "id": "718b46e4",
   "metadata": {},
   "source": [
    "Sex / nominal / -- / M, F, and I (infant) "
   ]
  },
  {
   "cell_type": "markdown",
   "id": "afb248ad",
   "metadata": {},
   "source": [
    "Length / continuous / mm / Longest shell measurement "
   ]
  },
  {
   "cell_type": "markdown",
   "id": "dd814449",
   "metadata": {},
   "source": [
    "Diameter / continuous / mm / perpendicular to length"
   ]
  },
  {
   "cell_type": "markdown",
   "id": "1dfc416a",
   "metadata": {},
   "source": [
    "Height / continuous / mm / with meat in shell"
   ]
  },
  {
   "cell_type": "markdown",
   "id": "7f9435ae",
   "metadata": {},
   "source": [
    "Whole weight / continuous / grams / whole abalone"
   ]
  },
  {
   "cell_type": "markdown",
   "id": "e35aaa72",
   "metadata": {},
   "source": [
    "Shucked weight / continuous / grams / weight of meat"
   ]
  },
  {
   "cell_type": "markdown",
   "id": "334864f4",
   "metadata": {},
   "source": [
    "Viscera weight / continuous / grams / gut weight (after bleeding)"
   ]
  },
  {
   "cell_type": "markdown",
   "id": "2bfc9f78",
   "metadata": {},
   "source": [
    "Shell weight / continuous / grams / after being dried"
   ]
  },
  {
   "cell_type": "markdown",
   "id": "87120b23",
   "metadata": {},
   "source": [
    "Rings / integer / -- / +1.5 gives the age in years. "
   ]
  },
  {
   "cell_type": "code",
   "execution_count": 136,
   "id": "452d7aed",
   "metadata": {},
   "outputs": [
    {
     "data": {
      "text/html": [
       "<div>\n",
       "<style scoped>\n",
       "    .dataframe tbody tr th:only-of-type {\n",
       "        vertical-align: middle;\n",
       "    }\n",
       "\n",
       "    .dataframe tbody tr th {\n",
       "        vertical-align: top;\n",
       "    }\n",
       "\n",
       "    .dataframe thead th {\n",
       "        text-align: right;\n",
       "    }\n",
       "</style>\n",
       "<table border=\"1\" class=\"dataframe\">\n",
       "  <thead>\n",
       "    <tr style=\"text-align: right;\">\n",
       "      <th></th>\n",
       "      <th>Sex</th>\n",
       "      <th>Length</th>\n",
       "      <th>Diameter</th>\n",
       "      <th>Height</th>\n",
       "      <th>Whole weight</th>\n",
       "      <th>Shucked weight</th>\n",
       "      <th>Viscera weight</th>\n",
       "      <th>Shell weight</th>\n",
       "      <th>Rings</th>\n",
       "    </tr>\n",
       "  </thead>\n",
       "  <tbody>\n",
       "    <tr>\n",
       "      <th>0</th>\n",
       "      <td>M</td>\n",
       "      <td>0.455</td>\n",
       "      <td>0.365</td>\n",
       "      <td>0.095</td>\n",
       "      <td>0.5140</td>\n",
       "      <td>0.2245</td>\n",
       "      <td>0.1010</td>\n",
       "      <td>0.150</td>\n",
       "      <td>15</td>\n",
       "    </tr>\n",
       "    <tr>\n",
       "      <th>1</th>\n",
       "      <td>M</td>\n",
       "      <td>0.350</td>\n",
       "      <td>0.265</td>\n",
       "      <td>0.090</td>\n",
       "      <td>0.2255</td>\n",
       "      <td>0.0995</td>\n",
       "      <td>0.0485</td>\n",
       "      <td>0.070</td>\n",
       "      <td>7</td>\n",
       "    </tr>\n",
       "    <tr>\n",
       "      <th>2</th>\n",
       "      <td>F</td>\n",
       "      <td>0.530</td>\n",
       "      <td>0.420</td>\n",
       "      <td>0.135</td>\n",
       "      <td>0.6770</td>\n",
       "      <td>0.2565</td>\n",
       "      <td>0.1415</td>\n",
       "      <td>0.210</td>\n",
       "      <td>9</td>\n",
       "    </tr>\n",
       "    <tr>\n",
       "      <th>3</th>\n",
       "      <td>M</td>\n",
       "      <td>0.440</td>\n",
       "      <td>0.365</td>\n",
       "      <td>0.125</td>\n",
       "      <td>0.5160</td>\n",
       "      <td>0.2155</td>\n",
       "      <td>0.1140</td>\n",
       "      <td>0.155</td>\n",
       "      <td>10</td>\n",
       "    </tr>\n",
       "    <tr>\n",
       "      <th>4</th>\n",
       "      <td>I</td>\n",
       "      <td>0.330</td>\n",
       "      <td>0.255</td>\n",
       "      <td>0.080</td>\n",
       "      <td>0.2050</td>\n",
       "      <td>0.0895</td>\n",
       "      <td>0.0395</td>\n",
       "      <td>0.055</td>\n",
       "      <td>7</td>\n",
       "    </tr>\n",
       "  </tbody>\n",
       "</table>\n",
       "</div>"
      ],
      "text/plain": [
       "  Sex  Length  Diameter  Height  Whole weight  Shucked weight  Viscera weight  \\\n",
       "0   M   0.455     0.365   0.095        0.5140          0.2245          0.1010   \n",
       "1   M   0.350     0.265   0.090        0.2255          0.0995          0.0485   \n",
       "2   F   0.530     0.420   0.135        0.6770          0.2565          0.1415   \n",
       "3   M   0.440     0.365   0.125        0.5160          0.2155          0.1140   \n",
       "4   I   0.330     0.255   0.080        0.2050          0.0895          0.0395   \n",
       "\n",
       "   Shell weight  Rings  \n",
       "0         0.150     15  \n",
       "1         0.070      7  \n",
       "2         0.210      9  \n",
       "3         0.155     10  \n",
       "4         0.055      7  "
      ]
     },
     "execution_count": 136,
     "metadata": {},
     "output_type": "execute_result"
    }
   ],
   "source": [
    "df.head()"
   ]
  },
  {
   "cell_type": "code",
   "execution_count": 137,
   "id": "48cbc459",
   "metadata": {},
   "outputs": [
    {
     "data": {
      "text/html": [
       "<div>\n",
       "<style scoped>\n",
       "    .dataframe tbody tr th:only-of-type {\n",
       "        vertical-align: middle;\n",
       "    }\n",
       "\n",
       "    .dataframe tbody tr th {\n",
       "        vertical-align: top;\n",
       "    }\n",
       "\n",
       "    .dataframe thead th {\n",
       "        text-align: right;\n",
       "    }\n",
       "</style>\n",
       "<table border=\"1\" class=\"dataframe\">\n",
       "  <thead>\n",
       "    <tr style=\"text-align: right;\">\n",
       "      <th></th>\n",
       "      <th>Sex</th>\n",
       "      <th>Length</th>\n",
       "      <th>Diameter</th>\n",
       "      <th>Height</th>\n",
       "      <th>Whole weight</th>\n",
       "      <th>Shucked weight</th>\n",
       "      <th>Viscera weight</th>\n",
       "      <th>Shell weight</th>\n",
       "      <th>Rings</th>\n",
       "    </tr>\n",
       "  </thead>\n",
       "  <tbody>\n",
       "    <tr>\n",
       "      <th>4172</th>\n",
       "      <td>F</td>\n",
       "      <td>0.565</td>\n",
       "      <td>0.450</td>\n",
       "      <td>0.165</td>\n",
       "      <td>0.8870</td>\n",
       "      <td>0.3700</td>\n",
       "      <td>0.2390</td>\n",
       "      <td>0.2490</td>\n",
       "      <td>11</td>\n",
       "    </tr>\n",
       "    <tr>\n",
       "      <th>4173</th>\n",
       "      <td>M</td>\n",
       "      <td>0.590</td>\n",
       "      <td>0.440</td>\n",
       "      <td>0.135</td>\n",
       "      <td>0.9660</td>\n",
       "      <td>0.4390</td>\n",
       "      <td>0.2145</td>\n",
       "      <td>0.2605</td>\n",
       "      <td>10</td>\n",
       "    </tr>\n",
       "    <tr>\n",
       "      <th>4174</th>\n",
       "      <td>M</td>\n",
       "      <td>0.600</td>\n",
       "      <td>0.475</td>\n",
       "      <td>0.205</td>\n",
       "      <td>1.1760</td>\n",
       "      <td>0.5255</td>\n",
       "      <td>0.2875</td>\n",
       "      <td>0.3080</td>\n",
       "      <td>9</td>\n",
       "    </tr>\n",
       "    <tr>\n",
       "      <th>4175</th>\n",
       "      <td>F</td>\n",
       "      <td>0.625</td>\n",
       "      <td>0.485</td>\n",
       "      <td>0.150</td>\n",
       "      <td>1.0945</td>\n",
       "      <td>0.5310</td>\n",
       "      <td>0.2610</td>\n",
       "      <td>0.2960</td>\n",
       "      <td>10</td>\n",
       "    </tr>\n",
       "    <tr>\n",
       "      <th>4176</th>\n",
       "      <td>M</td>\n",
       "      <td>0.710</td>\n",
       "      <td>0.555</td>\n",
       "      <td>0.195</td>\n",
       "      <td>1.9485</td>\n",
       "      <td>0.9455</td>\n",
       "      <td>0.3765</td>\n",
       "      <td>0.4950</td>\n",
       "      <td>12</td>\n",
       "    </tr>\n",
       "  </tbody>\n",
       "</table>\n",
       "</div>"
      ],
      "text/plain": [
       "     Sex  Length  Diameter  Height  Whole weight  Shucked weight  \\\n",
       "4172   F   0.565     0.450   0.165        0.8870          0.3700   \n",
       "4173   M   0.590     0.440   0.135        0.9660          0.4390   \n",
       "4174   M   0.600     0.475   0.205        1.1760          0.5255   \n",
       "4175   F   0.625     0.485   0.150        1.0945          0.5310   \n",
       "4176   M   0.710     0.555   0.195        1.9485          0.9455   \n",
       "\n",
       "      Viscera weight  Shell weight  Rings  \n",
       "4172          0.2390        0.2490     11  \n",
       "4173          0.2145        0.2605     10  \n",
       "4174          0.2875        0.3080      9  \n",
       "4175          0.2610        0.2960     10  \n",
       "4176          0.3765        0.4950     12  "
      ]
     },
     "execution_count": 137,
     "metadata": {},
     "output_type": "execute_result"
    }
   ],
   "source": [
    "df.tail()"
   ]
  },
  {
   "cell_type": "code",
   "execution_count": 138,
   "id": "62bb873c",
   "metadata": {},
   "outputs": [
    {
     "data": {
      "text/plain": [
       "(4177, 9)"
      ]
     },
     "execution_count": 138,
     "metadata": {},
     "output_type": "execute_result"
    }
   ],
   "source": [
    "df.shape"
   ]
  },
  {
   "cell_type": "code",
   "execution_count": 139,
   "id": "65bad346",
   "metadata": {},
   "outputs": [
    {
     "name": "stdout",
     "output_type": "stream",
     "text": [
      "<class 'pandas.core.frame.DataFrame'>\n",
      "RangeIndex: 4177 entries, 0 to 4176\n",
      "Data columns (total 9 columns):\n",
      " #   Column          Non-Null Count  Dtype  \n",
      "---  ------          --------------  -----  \n",
      " 0   Sex             4177 non-null   object \n",
      " 1   Length          4177 non-null   float64\n",
      " 2   Diameter        4177 non-null   float64\n",
      " 3   Height          4177 non-null   float64\n",
      " 4   Whole weight    4177 non-null   float64\n",
      " 5   Shucked weight  4177 non-null   float64\n",
      " 6   Viscera weight  4177 non-null   float64\n",
      " 7   Shell weight    4177 non-null   float64\n",
      " 8   Rings           4177 non-null   int64  \n",
      "dtypes: float64(7), int64(1), object(1)\n",
      "memory usage: 293.8+ KB\n"
     ]
    }
   ],
   "source": [
    "df.info()"
   ]
  },
  {
   "cell_type": "markdown",
   "id": "6bf03019",
   "metadata": {},
   "source": [
    "# Checking null values"
   ]
  },
  {
   "cell_type": "code",
   "execution_count": 140,
   "id": "a8807fb2",
   "metadata": {},
   "outputs": [
    {
     "data": {
      "text/plain": [
       "Sex               0\n",
       "Length            0\n",
       "Diameter          0\n",
       "Height            0\n",
       "Whole weight      0\n",
       "Shucked weight    0\n",
       "Viscera weight    0\n",
       "Shell weight      0\n",
       "Rings             0\n",
       "dtype: int64"
      ]
     },
     "execution_count": 140,
     "metadata": {},
     "output_type": "execute_result"
    }
   ],
   "source": [
    "df.isnull().sum()"
   ]
  },
  {
   "cell_type": "markdown",
   "id": "8aaf3ff0",
   "metadata": {},
   "source": [
    "checking duplicates"
   ]
  },
  {
   "cell_type": "code",
   "execution_count": 141,
   "id": "8a63f00a",
   "metadata": {},
   "outputs": [
    {
     "data": {
      "text/plain": [
       "0"
      ]
     },
     "execution_count": 141,
     "metadata": {},
     "output_type": "execute_result"
    }
   ],
   "source": [
    "df.duplicated().sum()"
   ]
  },
  {
   "cell_type": "code",
   "execution_count": 142,
   "id": "42f48b9f",
   "metadata": {},
   "outputs": [
    {
     "data": {
      "text/plain": [
       "<AxesSubplot:>"
      ]
     },
     "execution_count": 142,
     "metadata": {},
     "output_type": "execute_result"
    },
    {
     "data": {
      "image/png": "[encoded data removed]",
      "text/plain": [
       "<Figure size 432x288 with 2 Axes>"
      ]
     },
     "metadata": {
      "needs_background": "light"
     },
     "output_type": "display_data"
    }
   ],
   "source": [
    "sns.heatmap(df.isnull())"
   ]
  },
  {
   "cell_type": "code",
   "execution_count": 143,
   "id": "43ebf3e3",
   "metadata": {},
   "outputs": [],
   "source": [
    "numerical_features=[i for i in df.columns if df[i].dtypes != 'O']"
   ]
  },
  {
   "cell_type": "code",
   "execution_count": 144,
   "id": "779f5385",
   "metadata": {},
   "outputs": [
    {
     "data": {
      "text/plain": [
       "['Length',\n",
       " 'Diameter',\n",
       " 'Height',\n",
       " 'Whole weight',\n",
       " 'Shucked weight',\n",
       " 'Viscera weight',\n",
       " 'Shell weight',\n",
       " 'Rings']"
      ]
     },
     "execution_count": 144,
     "metadata": {},
     "output_type": "execute_result"
    }
   ],
   "source": [
    "numerical_features"
   ]
  },
  {
   "cell_type": "code",
   "execution_count": 145,
   "id": "393c3d9d",
   "metadata": {},
   "outputs": [
    {
     "data": {
      "text/plain": [
       "[]"
      ]
     },
     "execution_count": 145,
     "metadata": {},
     "output_type": "execute_result"
    }
   ],
   "source": [
    "descrete_features=[i for i in numerical_features if len(df[i].unique())<25]\n",
    "descrete_features"
   ]
  },
  {
   "cell_type": "markdown",
   "id": "dd4ffc09",
   "metadata": {},
   "source": [
    "# Visualization"
   ]
  },
  {
   "cell_type": "code",
   "execution_count": 146,
   "id": "2db989cf",
   "metadata": {},
   "outputs": [
    {
     "data": {
      "text/plain": [
       "M    1528\n",
       "I    1342\n",
       "F    1307\n",
       "Name: Sex, dtype: int64"
      ]
     },
     "execution_count": 146,
     "metadata": {},
     "output_type": "execute_result"
    }
   ],
   "source": [
    "df['Sex'].value_counts()"
   ]
  },
  {
   "cell_type": "code",
   "execution_count": 147,
   "id": "32e75403",
   "metadata": {},
   "outputs": [
    {
     "data": {
      "text/plain": [
       "<AxesSubplot:xlabel='Sex', ylabel='count'>"
      ]
     },
     "execution_count": 147,
     "metadata": {},
     "output_type": "execute_result"
    },
    {
     "data": {
      "image/png": "[encoded data removed]",
      "text/plain": [
       "<Figure size 432x288 with 1 Axes>"
      ]
     },
     "metadata": {
      "needs_background": "light"
     },
     "output_type": "display_data"
    }
   ],
   "source": [
    "sns.countplot(df['Sex'],data=df)"
   ]
  },
  {
   "cell_type": "markdown",
   "id": "faecc3f6",
   "metadata": {},
   "source": [
    "from the count plot three different categories male,female,infant more in male"
   ]
  },
  {
   "cell_type": "code",
   "execution_count": 148,
   "id": "20ae4837",
   "metadata": {},
   "outputs": [
    {
     "data": {
      "text/plain": [
       "<AxesSubplot:xlabel='Rings', ylabel='count'>"
      ]
     },
     "execution_count": 148,
     "metadata": {},
     "output_type": "execute_result"
    },
    {
     "data": {
      "image/png": "[encoded data removed]",
      "text/plain": [
       "<Figure size 648x648 with 1 Axes>"
      ]
     },
     "metadata": {
      "needs_background": "light"
     },
     "output_type": "display_data"
    }
   ],
   "source": [
    "plt.figure(figsize=(9,9))\n",
    "sns.countplot(df['Rings'],hue='Sex',data=df)"
   ]
  },
  {
   "cell_type": "markdown",
   "id": "fac69051",
   "metadata": {},
   "source": [
    "from the above graph most ring/age lies between 6-13 range"
   ]
  },
  {
   "cell_type": "code",
   "execution_count": 149,
   "id": "3573857e",
   "metadata": {},
   "outputs": [
    {
     "data": {
      "image/png": "[encoded data removed]",
      "text/plain": [
       "<Figure size 432x288 with 1 Axes>"
      ]
     },
     "metadata": {
      "needs_background": "light"
     },
     "output_type": "display_data"
    },
    {
     "data": {
      "image/png": "[encoded data removed]",
      "text/plain": [
       "<Figure size 432x288 with 1 Axes>"
      ]
     },
     "metadata": {
      "needs_background": "light"
     },
     "output_type": "display_data"
    },
    {
     "data": {
      "image/png": "[encoded data removed]",
      "text/plain": [
       "<Figure size 432x288 with 1 Axes>"
      ]
     },
     "metadata": {
      "needs_background": "light"
     },
     "output_type": "display_data"
    },
    {
     "data": {
      "image/png": "[encoded data removed]",
      "text/plain": [
       "<Figure size 432x288 with 1 Axes>"
      ]
     },
     "metadata": {
      "needs_background": "light"
     },
     "output_type": "display_data"
    },
    {
     "data": {
      "image/png": "[encoded data removed]",
      "text/plain": [
       "<Figure size 432x288 with 1 Axes>"
      ]
     },
     "metadata": {
      "needs_background": "light"
     },
     "output_type": "display_data"
    },
    {
     "data": {
      "image/png": "[encoded data removed]",
      "text/plain": [
       "<Figure size 432x288 with 1 Axes>"
      ]
     },
     "metadata": {
      "needs_background": "light"
     },
     "output_type": "display_data"
    },
    {
     "data": {
      "image/png": "[encoded data removed]",
      "text/plain": [
       "<Figure size 432x288 with 1 Axes>"
      ]
     },
     "metadata": {
      "needs_background": "light"
     },
     "output_type": "display_data"
    },
    {
     "data": {
      "image/png": "[encoded data removed]",
      "text/plain": [
       "<Figure size 432x288 with 1 Axes>"
      ]
     },
     "metadata": {
      "needs_background": "light"
     },
     "output_type": "display_data"
    }
   ],
   "source": [
    "for i in numerical_features:\n",
    "    plt.plot()\n",
    "    plt.scatter(df[i],df['Rings'],label=i)\n",
    "    plt.xlabel(i)\n",
    "    plt.ylabel('Rings')\n",
    "    plt.legend()\n",
    "    plt.show()"
   ]
  },
  {
   "cell_type": "markdown",
   "id": "6c797175",
   "metadata": {},
   "source": [
    "from the scatter plot length,diameter,whole weight,shucked,shell,viscera weight are linearly related with  rings"
   ]
  },
  {
   "cell_type": "markdown",
   "id": "9dc74039",
   "metadata": {},
   "source": [
    "in height it's stable after some values with increase in rings"
   ]
  },
  {
   "cell_type": "code",
   "execution_count": 150,
   "id": "e358652a",
   "metadata": {},
   "outputs": [
    {
     "data": {
      "image/png": "[encoded data removed]",
      "text/plain": [
       "<Figure size 432x288 with 1 Axes>"
      ]
     },
     "metadata": {
      "needs_background": "light"
     },
     "output_type": "display_data"
    },
    {
     "data": {
      "image/png": "[encoded data removed]",
      "text/plain": [
       "<Figure size 432x288 with 1 Axes>"
      ]
     },
     "metadata": {
      "needs_background": "light"
     },
     "output_type": "display_data"
    },
    {
     "data": {
      "image/png": "[encoded data removed]",
      "text/plain": [
       "<Figure size 432x288 with 1 Axes>"
      ]
     },
     "metadata": {
      "needs_background": "light"
     },
     "output_type": "display_data"
    },
    {
     "data": {
      "image/png": "[encoded data removed]",
      "text/plain": [
       "<Figure size 432x288 with 1 Axes>"
      ]
     },
     "metadata": {
      "needs_background": "light"
     },
     "output_type": "display_data"
    },
    {
     "data": {
      "image/png": "[encoded data removed]",
      "text/plain": [
       "<Figure size 432x288 with 1 Axes>"
      ]
     },
     "metadata": {
      "needs_background": "light"
     },
     "output_type": "display_data"
    },
    {
     "data": {
      "image/png": "[encoded data removed]",
      "text/plain": [
       "<Figure size 432x288 with 1 Axes>"
      ]
     },
     "metadata": {
      "needs_background": "light"
     },
     "output_type": "display_data"
    },
    {
     "data": {
      "image/png": "[encoded data removed]",
      "text/plain": [
       "<Figure size 432x288 with 1 Axes>"
      ]
     },
     "metadata": {
      "needs_background": "light"
     },
     "output_type": "display_data"
    },
    {
     "data": {
      "image/png": "[encoded data removed]",
      "text/plain": [
       "<Figure size 432x288 with 1 Axes>"
      ]
     },
     "metadata": {
      "needs_background": "light"
     },
     "output_type": "display_data"
    }
   ],
   "source": [
    "for i in numerical_features:\n",
    "    plt.plot()\n",
    "    plt.hist(df[i],bins=20,label=i,color='g')\n",
    "    plt.xlabel(i)\n",
    "    plt.legend()\n",
    "    plt.show()"
   ]
  },
  {
   "cell_type": "markdown",
   "id": "0862673e",
   "metadata": {},
   "source": [
    "from the distribution plot height has right skew"
   ]
  },
  {
   "cell_type": "markdown",
   "id": "87bd1160",
   "metadata": {},
   "source": [
    "# Check correlation"
   ]
  },
  {
   "cell_type": "code",
   "execution_count": 151,
   "id": "d0325292",
   "metadata": {},
   "outputs": [
    {
     "data": {
      "text/html": [
       "<div>\n",
       "<style scoped>\n",
       "    .dataframe tbody tr th:only-of-type {\n",
       "        vertical-align: middle;\n",
       "    }\n",
       "\n",
       "    .dataframe tbody tr th {\n",
       "        vertical-align: top;\n",
       "    }\n",
       "\n",
       "    .dataframe thead th {\n",
       "        text-align: right;\n",
       "    }\n",
       "</style>\n",
       "<table border=\"1\" class=\"dataframe\">\n",
       "  <thead>\n",
       "    <tr style=\"text-align: right;\">\n",
       "      <th></th>\n",
       "      <th>Length</th>\n",
       "      <th>Diameter</th>\n",
       "      <th>Height</th>\n",
       "      <th>Whole weight</th>\n",
       "      <th>Shucked weight</th>\n",
       "      <th>Viscera weight</th>\n",
       "      <th>Shell weight</th>\n",
       "      <th>Rings</th>\n",
       "    </tr>\n",
       "  </thead>\n",
       "  <tbody>\n",
       "    <tr>\n",
       "      <th>Length</th>\n",
       "      <td>1.000000</td>\n",
       "      <td>0.986812</td>\n",
       "      <td>0.827554</td>\n",
       "      <td>0.925261</td>\n",
       "      <td>0.897914</td>\n",
       "      <td>0.903018</td>\n",
       "      <td>0.897706</td>\n",
       "      <td>0.556720</td>\n",
       "    </tr>\n",
       "    <tr>\n",
       "      <th>Diameter</th>\n",
       "      <td>0.986812</td>\n",
       "      <td>1.000000</td>\n",
       "      <td>0.833684</td>\n",
       "      <td>0.925452</td>\n",
       "      <td>0.893162</td>\n",
       "      <td>0.899724</td>\n",
       "      <td>0.905330</td>\n",
       "      <td>0.574660</td>\n",
       "    </tr>\n",
       "    <tr>\n",
       "      <th>Height</th>\n",
       "      <td>0.827554</td>\n",
       "      <td>0.833684</td>\n",
       "      <td>1.000000</td>\n",
       "      <td>0.819221</td>\n",
       "      <td>0.774972</td>\n",
       "      <td>0.798319</td>\n",
       "      <td>0.817338</td>\n",
       "      <td>0.557467</td>\n",
       "    </tr>\n",
       "    <tr>\n",
       "      <th>Whole weight</th>\n",
       "      <td>0.925261</td>\n",
       "      <td>0.925452</td>\n",
       "      <td>0.819221</td>\n",
       "      <td>1.000000</td>\n",
       "      <td>0.969405</td>\n",
       "      <td>0.966375</td>\n",
       "      <td>0.955355</td>\n",
       "      <td>0.540390</td>\n",
       "    </tr>\n",
       "    <tr>\n",
       "      <th>Shucked weight</th>\n",
       "      <td>0.897914</td>\n",
       "      <td>0.893162</td>\n",
       "      <td>0.774972</td>\n",
       "      <td>0.969405</td>\n",
       "      <td>1.000000</td>\n",
       "      <td>0.931961</td>\n",
       "      <td>0.882617</td>\n",
       "      <td>0.420884</td>\n",
       "    </tr>\n",
       "    <tr>\n",
       "      <th>Viscera weight</th>\n",
       "      <td>0.903018</td>\n",
       "      <td>0.899724</td>\n",
       "      <td>0.798319</td>\n",
       "      <td>0.966375</td>\n",
       "      <td>0.931961</td>\n",
       "      <td>1.000000</td>\n",
       "      <td>0.907656</td>\n",
       "      <td>0.503819</td>\n",
       "    </tr>\n",
       "    <tr>\n",
       "      <th>Shell weight</th>\n",
       "      <td>0.897706</td>\n",
       "      <td>0.905330</td>\n",
       "      <td>0.817338</td>\n",
       "      <td>0.955355</td>\n",
       "      <td>0.882617</td>\n",
       "      <td>0.907656</td>\n",
       "      <td>1.000000</td>\n",
       "      <td>0.627574</td>\n",
       "    </tr>\n",
       "    <tr>\n",
       "      <th>Rings</th>\n",
       "      <td>0.556720</td>\n",
       "      <td>0.574660</td>\n",
       "      <td>0.557467</td>\n",
       "      <td>0.540390</td>\n",
       "      <td>0.420884</td>\n",
       "      <td>0.503819</td>\n",
       "      <td>0.627574</td>\n",
       "      <td>1.000000</td>\n",
       "    </tr>\n",
       "  </tbody>\n",
       "</table>\n",
       "</div>"
      ],
      "text/plain": [
       "                  Length  Diameter    Height  Whole weight  Shucked weight  \\\n",
       "Length          1.000000  0.986812  0.827554      0.925261        0.897914   \n",
       "Diameter        0.986812  1.000000  0.833684      0.925452        0.893162   \n",
       "Height          0.827554  0.833684  1.000000      0.819221        0.774972   \n",
       "Whole weight    0.925261  0.925452  0.819221      1.000000        0.969405   \n",
       "Shucked weight  0.897914  0.893162  0.774972      0.969405        1.000000   \n",
       "Viscera weight  0.903018  0.899724  0.798319      0.966375        0.931961   \n",
       "Shell weight    0.897706  0.905330  0.817338      0.955355        0.882617   \n",
       "Rings           0.556720  0.574660  0.557467      0.540390        0.420884   \n",
       "\n",
       "                Viscera weight  Shell weight     Rings  \n",
       "Length                0.903018      0.897706  0.556720  \n",
       "Diameter              0.899724      0.905330  0.574660  \n",
       "Height                0.798319      0.817338  0.557467  \n",
       "Whole weight          0.966375      0.955355  0.540390  \n",
       "Shucked weight        0.931961      0.882617  0.420884  \n",
       "Viscera weight        1.000000      0.907656  0.503819  \n",
       "Shell weight          0.907656      1.000000  0.627574  \n",
       "Rings                 0.503819      0.627574  1.000000  "
      ]
     },
     "execution_count": 151,
     "metadata": {},
     "output_type": "execute_result"
    }
   ],
   "source": [
    "df.corr()"
   ]
  },
  {
   "cell_type": "code",
   "execution_count": 152,
   "id": "2aea28a3",
   "metadata": {},
   "outputs": [
    {
     "data": {
      "text/plain": [
       "<AxesSubplot:>"
      ]
     },
     "execution_count": 152,
     "metadata": {},
     "output_type": "execute_result"
    },
    {
     "data": {
      "image/png": "[encoded data removed]",
      "text/plain": [
       "<Figure size 648x648 with 2 Axes>"
      ]
     },
     "metadata": {
      "needs_background": "light"
     },
     "output_type": "display_data"
    }
   ],
   "source": [
    "plt.figure(figsize=(9,9))\n",
    "sns.heatmap(df.corr(),annot=True,cmap='BrBG')"
   ]
  },
  {
   "cell_type": "markdown",
   "id": "d676fd73",
   "metadata": {},
   "source": [
    "from the heatmap length and diameter are hight corelated with each other with value 0.99 \n",
    "same whole weight and shucked weught are colinearity with each other with value 0.97"
   ]
  },
  {
   "cell_type": "code",
   "execution_count": 153,
   "id": "157d95da",
   "metadata": {},
   "outputs": [
    {
     "data": {
      "text/plain": [
       "<AxesSubplot:xlabel='Length', ylabel='Diameter'>"
      ]
     },
     "execution_count": 153,
     "metadata": {},
     "output_type": "execute_result"
    },
    {
     "data": {
      "image/png": "[encoded data removed]",
      "text/plain": [
       "<Figure size 432x288 with 1 Axes>"
      ]
     },
     "metadata": {
      "needs_background": "light"
     },
     "output_type": "display_data"
    }
   ],
   "source": [
    "sns.scatterplot(df['Length'],df['Diameter'])"
   ]
  },
  {
   "cell_type": "code",
   "execution_count": 154,
   "id": "d5eea069",
   "metadata": {},
   "outputs": [
    {
     "data": {
      "text/plain": [
       "<AxesSubplot:xlabel='Whole weight', ylabel='Shucked weight'>"
      ]
     },
     "execution_count": 154,
     "metadata": {},
     "output_type": "execute_result"
    },
    {
     "data": {
      "image/png": "[encoded data removed]",
      "text/plain": [
       "<Figure size 432x288 with 1 Axes>"
      ]
     },
     "metadata": {
      "needs_background": "light"
     },
     "output_type": "display_data"
    }
   ],
   "source": [
    "sns.scatterplot(df['Whole weight'],df['Shucked weight'])"
   ]
  },
  {
   "cell_type": "markdown",
   "id": "2ce3391d",
   "metadata": {},
   "source": [
    "# Statistics"
   ]
  },
  {
   "cell_type": "code",
   "execution_count": 155,
   "id": "136f1b27",
   "metadata": {},
   "outputs": [
    {
     "data": {
      "text/html": [
       "<div>\n",
       "<style scoped>\n",
       "    .dataframe tbody tr th:only-of-type {\n",
       "        vertical-align: middle;\n",
       "    }\n",
       "\n",
       "    .dataframe tbody tr th {\n",
       "        vertical-align: top;\n",
       "    }\n",
       "\n",
       "    .dataframe thead th {\n",
       "        text-align: right;\n",
       "    }\n",
       "</style>\n",
       "<table border=\"1\" class=\"dataframe\">\n",
       "  <thead>\n",
       "    <tr style=\"text-align: right;\">\n",
       "      <th></th>\n",
       "      <th>Length</th>\n",
       "      <th>Diameter</th>\n",
       "      <th>Height</th>\n",
       "      <th>Whole weight</th>\n",
       "      <th>Shucked weight</th>\n",
       "      <th>Viscera weight</th>\n",
       "      <th>Shell weight</th>\n",
       "      <th>Rings</th>\n",
       "    </tr>\n",
       "  </thead>\n",
       "  <tbody>\n",
       "    <tr>\n",
       "      <th>count</th>\n",
       "      <td>4177.000000</td>\n",
       "      <td>4177.000000</td>\n",
       "      <td>4177.000000</td>\n",
       "      <td>4177.000000</td>\n",
       "      <td>4177.000000</td>\n",
       "      <td>4177.000000</td>\n",
       "      <td>4177.000000</td>\n",
       "      <td>4177.000000</td>\n",
       "    </tr>\n",
       "    <tr>\n",
       "      <th>mean</th>\n",
       "      <td>0.523992</td>\n",
       "      <td>0.407881</td>\n",
       "      <td>0.139516</td>\n",
       "      <td>0.828742</td>\n",
       "      <td>0.359367</td>\n",
       "      <td>0.180594</td>\n",
       "      <td>0.238831</td>\n",
       "      <td>9.933684</td>\n",
       "    </tr>\n",
       "    <tr>\n",
       "      <th>std</th>\n",
       "      <td>0.120093</td>\n",
       "      <td>0.099240</td>\n",
       "      <td>0.041827</td>\n",
       "      <td>0.490389</td>\n",
       "      <td>0.221963</td>\n",
       "      <td>0.109614</td>\n",
       "      <td>0.139203</td>\n",
       "      <td>3.224169</td>\n",
       "    </tr>\n",
       "    <tr>\n",
       "      <th>min</th>\n",
       "      <td>0.075000</td>\n",
       "      <td>0.055000</td>\n",
       "      <td>0.000000</td>\n",
       "      <td>0.002000</td>\n",
       "      <td>0.001000</td>\n",
       "      <td>0.000500</td>\n",
       "      <td>0.001500</td>\n",
       "      <td>1.000000</td>\n",
       "    </tr>\n",
       "    <tr>\n",
       "      <th>25%</th>\n",
       "      <td>0.450000</td>\n",
       "      <td>0.350000</td>\n",
       "      <td>0.115000</td>\n",
       "      <td>0.441500</td>\n",
       "      <td>0.186000</td>\n",
       "      <td>0.093500</td>\n",
       "      <td>0.130000</td>\n",
       "      <td>8.000000</td>\n",
       "    </tr>\n",
       "    <tr>\n",
       "      <th>50%</th>\n",
       "      <td>0.545000</td>\n",
       "      <td>0.425000</td>\n",
       "      <td>0.140000</td>\n",
       "      <td>0.799500</td>\n",
       "      <td>0.336000</td>\n",
       "      <td>0.171000</td>\n",
       "      <td>0.234000</td>\n",
       "      <td>9.000000</td>\n",
       "    </tr>\n",
       "    <tr>\n",
       "      <th>75%</th>\n",
       "      <td>0.615000</td>\n",
       "      <td>0.480000</td>\n",
       "      <td>0.165000</td>\n",
       "      <td>1.153000</td>\n",
       "      <td>0.502000</td>\n",
       "      <td>0.253000</td>\n",
       "      <td>0.329000</td>\n",
       "      <td>11.000000</td>\n",
       "    </tr>\n",
       "    <tr>\n",
       "      <th>max</th>\n",
       "      <td>0.815000</td>\n",
       "      <td>0.650000</td>\n",
       "      <td>1.130000</td>\n",
       "      <td>2.825500</td>\n",
       "      <td>1.488000</td>\n",
       "      <td>0.760000</td>\n",
       "      <td>1.005000</td>\n",
       "      <td>29.000000</td>\n",
       "    </tr>\n",
       "  </tbody>\n",
       "</table>\n",
       "</div>"
      ],
      "text/plain": [
       "            Length     Diameter       Height  Whole weight  Shucked weight  \\\n",
       "count  4177.000000  4177.000000  4177.000000   4177.000000     4177.000000   \n",
       "mean      0.523992     0.407881     0.139516      0.828742        0.359367   \n",
       "std       0.120093     0.099240     0.041827      0.490389        0.221963   \n",
       "min       0.075000     0.055000     0.000000      0.002000        0.001000   \n",
       "25%       0.450000     0.350000     0.115000      0.441500        0.186000   \n",
       "50%       0.545000     0.425000     0.140000      0.799500        0.336000   \n",
       "75%       0.615000     0.480000     0.165000      1.153000        0.502000   \n",
       "max       0.815000     0.650000     1.130000      2.825500        1.488000   \n",
       "\n",
       "       Viscera weight  Shell weight        Rings  \n",
       "count     4177.000000   4177.000000  4177.000000  \n",
       "mean         0.180594      0.238831     9.933684  \n",
       "std          0.109614      0.139203     3.224169  \n",
       "min          0.000500      0.001500     1.000000  \n",
       "25%          0.093500      0.130000     8.000000  \n",
       "50%          0.171000      0.234000     9.000000  \n",
       "75%          0.253000      0.329000    11.000000  \n",
       "max          0.760000      1.005000    29.000000  "
      ]
     },
     "execution_count": 155,
     "metadata": {},
     "output_type": "execute_result"
    }
   ],
   "source": [
    "df.describe()"
   ]
  },
  {
   "cell_type": "markdown",
   "id": "31bff275",
   "metadata": {},
   "source": [
    "from describe rings,shucked weight,shell weight has more outliers"
   ]
  },
  {
   "cell_type": "code",
   "execution_count": 156,
   "id": "3521d53e",
   "metadata": {},
   "outputs": [],
   "source": [
    "from statsmodels.stats.outliers_influence import variance_inflation_factor\n",
    "from sklearn.preprocessing import LabelEncoder,StandardScaler\n",
    "lb=LabelEncoder()\n",
    "df['Sex']=lb.fit_transform(df['Sex'])"
   ]
  },
  {
   "cell_type": "markdown",
   "id": "d9e45ab4",
   "metadata": {},
   "source": [
    "# Checking colinearity"
   ]
  },
  {
   "cell_type": "code",
   "execution_count": 157,
   "id": "3b1365b1",
   "metadata": {},
   "outputs": [],
   "source": [
    "def valcal():\n",
    "    vif=pd.DataFrame()\n",
    "    vif['vif factors']=[variance_inflation_factor(df.values,i) for i in range(df.shape[1])]\n",
    "    vif['features']=df.columns\n",
    "    print(vif)"
   ]
  },
  {
   "cell_type": "code",
   "execution_count": 158,
   "id": "4b2c242b",
   "metadata": {},
   "outputs": [
    {
     "name": "stdout",
     "output_type": "stream",
     "text": [
      "   vif factors        features\n",
      "0     2.563825             Sex\n",
      "1   702.347884          Length\n",
      "2   755.416018        Diameter\n",
      "3    43.004758          Height\n",
      "4   436.141083    Whole weight\n",
      "5   117.686245  Shucked weight\n",
      "6    64.740171  Viscera weight\n",
      "7    82.562895    Shell weight\n",
      "8    21.652131           Rings\n"
     ]
    }
   ],
   "source": [
    "valcal()"
   ]
  },
  {
   "cell_type": "markdown",
   "id": "f5b30f6f",
   "metadata": {},
   "source": [
    "Outliers visual"
   ]
  },
  {
   "cell_type": "code",
   "execution_count": 159,
   "id": "d5751704",
   "metadata": {},
   "outputs": [
    {
     "data": {
      "image/png": "[encoded data removed]",
      "text/plain": [
       "<Figure size 432x288 with 1 Axes>"
      ]
     },
     "metadata": {
      "needs_background": "light"
     },
     "output_type": "display_data"
    },
    {
     "data": {
      "image/png": "[encoded data removed]",
      "text/plain": [
       "<Figure size 432x288 with 1 Axes>"
      ]
     },
     "metadata": {
      "needs_background": "light"
     },
     "output_type": "display_data"
    },
    {
     "data": {
      "image/png": "[encoded data removed]",
      "text/plain": [
       "<Figure size 432x288 with 1 Axes>"
      ]
     },
     "metadata": {
      "needs_background": "light"
     },
     "output_type": "display_data"
    },
    {
     "data": {
      "image/png": "[encoded data removed]",
      "text/plain": [
       "<Figure size 432x288 with 1 Axes>"
      ]
     },
     "metadata": {
      "needs_background": "light"
     },
     "output_type": "display_data"
    },
    {
     "data": {
      "image/png": "[encoded data removed]",
      "text/plain": [
       "<Figure size 432x288 with 1 Axes>"
      ]
     },
     "metadata": {
      "needs_background": "light"
     },
     "output_type": "display_data"
    },
    {
     "data": {
      "image/png": "[encoded data removed]",
      "text/plain": [
       "<Figure size 432x288 with 1 Axes>"
      ]
     },
     "metadata": {
      "needs_background": "light"
     },
     "output_type": "display_data"
    },
    {
     "data": {
      "image/png": "[encoded data removed]",
      "text/plain": [
       "<Figure size 432x288 with 1 Axes>"
      ]
     },
     "metadata": {
      "needs_background": "light"
     },
     "output_type": "display_data"
    },
    {
     "data": {
      "image/png": "[encoded data removed]",
      "text/plain": [
       "<Figure size 432x288 with 1 Axes>"
      ]
     },
     "metadata": {
      "needs_background": "light"
     },
     "output_type": "display_data"
    }
   ],
   "source": [
    "for i in numerical_features:\n",
    "    plt.plot()\n",
    "    df[i].plot.box()\n",
    "    plt.show()"
   ]
  },
  {
   "cell_type": "code",
   "execution_count": 160,
   "id": "b6629e17",
   "metadata": {
    "scrolled": true
   },
   "outputs": [
    {
     "data": {
      "image/png": "[encoded data removed]",
      "text/plain": [
       "<Figure size 432x288 with 1 Axes>"
      ]
     },
     "metadata": {
      "needs_background": "light"
     },
     "output_type": "display_data"
    },
    {
     "data": {
      "image/png": "[encoded data removed]",
      "text/plain": [
       "<Figure size 432x288 with 1 Axes>"
      ]
     },
     "metadata": {
      "needs_background": "light"
     },
     "output_type": "display_data"
    },
    {
     "data": {
      "image/png": "[encoded data removed]",
      "text/plain": [
       "<Figure size 432x288 with 1 Axes>"
      ]
     },
     "metadata": {
      "needs_background": "light"
     },
     "output_type": "display_data"
    },
    {
     "data": {
      "image/png": "[encoded data removed]",
      "text/plain": [
       "<Figure size 432x288 with 1 Axes>"
      ]
     },
     "metadata": {
      "needs_background": "light"
     },
     "output_type": "display_data"
    },
    {
     "data": {
      "image/png": "[encoded data removed]",
      "text/plain": [
       "<Figure size 432x288 with 1 Axes>"
      ]
     },
     "metadata": {
      "needs_background": "light"
     },
     "output_type": "display_data"
    },
    {
     "data": {
      "image/png": "[encoded data removed]",
      "text/plain": [
       "<Figure size 432x288 with 1 Axes>"
      ]
     },
     "metadata": {
      "needs_background": "light"
     },
     "output_type": "display_data"
    },
    {
     "data": {
      "image/png": "[encoded data removed]",
      "text/plain": [
       "<Figure size 432x288 with 1 Axes>"
      ]
     },
     "metadata": {
      "needs_background": "light"
     },
     "output_type": "display_data"
    },
    {
     "data": {
      "image/png": "[encoded data removed]",
      "text/plain": [
       "<Figure size 432x288 with 1 Axes>"
      ]
     },
     "metadata": {
      "needs_background": "light"
     },
     "output_type": "display_data"
    }
   ],
   "source": [
    "for i in numerical_features:\n",
    "    plt.plot()\n",
    "    sns.distplot(df[i],label=i,color='r')\n",
    "    plt.legend()\n",
    "    plt.show()"
   ]
  },
  {
   "cell_type": "markdown",
   "id": "94d69753",
   "metadata": {},
   "source": [
    "# Checking Skewness"
   ]
  },
  {
   "cell_type": "code",
   "execution_count": 161,
   "id": "7d691e9b",
   "metadata": {},
   "outputs": [
    {
     "data": {
      "text/plain": [
       "Sex              -0.098155\n",
       "Length           -0.639873\n",
       "Diameter         -0.609198\n",
       "Height            3.128817\n",
       "Whole weight      0.530959\n",
       "Shucked weight    0.719098\n",
       "Viscera weight    0.591852\n",
       "Shell weight      0.620927\n",
       "Rings             1.114102\n",
       "dtype: float64"
      ]
     },
     "execution_count": 161,
     "metadata": {},
     "output_type": "execute_result"
    }
   ],
   "source": [
    "df.skew()"
   ]
  },
  {
   "cell_type": "markdown",
   "id": "2d399f67",
   "metadata": {},
   "source": [
    "# Remove ouliers"
   ]
  },
  {
   "cell_type": "code",
   "execution_count": 162,
   "id": "dd8ee75c",
   "metadata": {},
   "outputs": [],
   "source": [
    "from scipy.stats import zscore\n",
    "z=np.abs(zscore(df))"
   ]
  },
  {
   "cell_type": "code",
   "execution_count": 163,
   "id": "28e89c41",
   "metadata": {},
   "outputs": [
    {
     "name": "stdout",
     "output_type": "stream",
     "text": [
      "(array([   6,   72,   81,   83,  129,  163,  164,  165,  165,  165,  166,\n",
      "        166,  167,  168,  170,  181,  232,  236,  236,  236,  237,  237,\n",
      "        238,  238,  239,  270,  275,  277,  278,  294,  310,  313,  314,\n",
      "        334,  351,  355,  358,  358,  362,  375,  416,  417,  428,  431,\n",
      "        433,  469,  478,  480,  501,  526,  526,  530,  572,  628,  673,\n",
      "        674,  675,  678,  694,  696,  696,  719,  719,  720,  720,  744,\n",
      "        754,  756,  811,  891,  891,  891, 1048, 1051, 1051, 1052, 1193,\n",
      "       1197, 1199, 1202, 1204, 1206, 1206, 1207, 1207, 1207, 1207, 1209,\n",
      "       1209, 1257, 1417, 1417, 1418, 1422, 1426, 1427, 1427, 1427, 1428,\n",
      "       1429, 1429, 1528, 1754, 1756, 1757, 1759, 1761, 1762, 1762, 1762,\n",
      "       1763, 1763, 1763, 1821, 1982, 1986, 1987, 1987, 2051, 2090, 2108,\n",
      "       2108, 2114, 2114, 2157, 2161, 2176, 2180, 2199, 2201, 2208, 2209,\n",
      "       2274, 2275, 2305, 2334, 2334, 2334, 2335, 2344, 2358, 2368, 2381,\n",
      "       2436, 2459, 2471, 2544, 2623, 2624, 2624, 2624, 2625, 2709, 2710,\n",
      "       2710, 2810, 2810, 2811, 2811, 2811, 2862, 2863, 2863, 2863, 3007,\n",
      "       3008, 3140, 3148, 3149, 3149, 3151, 3151, 3188, 3193, 3280, 3359,\n",
      "       3427, 3427, 3427, 3599, 3599, 3628, 3713, 3715, 3715, 3715, 3715,\n",
      "       3800, 3837, 3899, 3899, 3902, 3924, 3930, 3944, 3961, 3962, 3996,\n",
      "       4145, 4148], dtype=int64), array([8, 8, 7, 8, 7, 7, 7, 4, 5, 7, 7, 8, 8, 7, 6, 8, 8, 1, 2, 3, 1, 2,\n",
      "       1, 2, 1, 8, 8, 7, 8, 8, 8, 8, 8, 7, 8, 8, 4, 7, 8, 8, 8, 8, 8, 8,\n",
      "       8, 8, 8, 8, 8, 1, 2, 8, 8, 8, 8, 8, 8, 8, 2, 1, 2, 1, 2, 1, 2, 8,\n",
      "       8, 8, 8, 4, 5, 7, 6, 4, 5, 4, 5, 5, 5, 5, 6, 5, 6, 4, 5, 6, 7, 4,\n",
      "       5, 3, 3, 5, 5, 6, 5, 4, 5, 6, 7, 1, 2, 5, 5, 5, 6, 6, 5, 4, 5, 6,\n",
      "       4, 5, 6, 5, 5, 1, 1, 2, 3, 7, 7, 8, 1, 2, 7, 7, 8, 8, 8, 8, 7, 8,\n",
      "       7, 8, 8, 4, 6, 8, 8, 8, 8, 7, 1, 8, 8, 8, 5, 4, 4, 5, 6, 5, 6, 5,\n",
      "       6, 5, 6, 4, 5, 6, 5, 4, 5, 6, 5, 7, 8, 7, 7, 8, 7, 8, 7, 8, 8, 8,\n",
      "       4, 5, 6, 4, 5, 6, 5, 4, 5, 6, 7, 4, 2, 1, 2, 1, 8, 8, 8, 5, 5, 3,\n",
      "       7, 6], dtype=int64))\n"
     ]
    }
   ],
   "source": [
    "thresold=3\n",
    "print(np.where(z>3))"
   ]
  },
  {
   "cell_type": "code",
   "execution_count": 164,
   "id": "bc998af2",
   "metadata": {},
   "outputs": [
    {
     "data": {
      "text/html": [
       "<div>\n",
       "<style scoped>\n",
       "    .dataframe tbody tr th:only-of-type {\n",
       "        vertical-align: middle;\n",
       "    }\n",
       "\n",
       "    .dataframe tbody tr th {\n",
       "        vertical-align: top;\n",
       "    }\n",
       "\n",
       "    .dataframe thead th {\n",
       "        text-align: right;\n",
       "    }\n",
       "</style>\n",
       "<table border=\"1\" class=\"dataframe\">\n",
       "  <thead>\n",
       "    <tr style=\"text-align: right;\">\n",
       "      <th></th>\n",
       "      <th>Sex</th>\n",
       "      <th>Length</th>\n",
       "      <th>Diameter</th>\n",
       "      <th>Height</th>\n",
       "      <th>Whole weight</th>\n",
       "      <th>Shucked weight</th>\n",
       "      <th>Viscera weight</th>\n",
       "      <th>Shell weight</th>\n",
       "      <th>Rings</th>\n",
       "    </tr>\n",
       "  </thead>\n",
       "  <tbody>\n",
       "    <tr>\n",
       "      <th>0</th>\n",
       "      <td>2</td>\n",
       "      <td>0.455</td>\n",
       "      <td>0.365</td>\n",
       "      <td>0.095</td>\n",
       "      <td>0.5140</td>\n",
       "      <td>0.2245</td>\n",
       "      <td>0.1010</td>\n",
       "      <td>0.1500</td>\n",
       "      <td>15</td>\n",
       "    </tr>\n",
       "    <tr>\n",
       "      <th>1</th>\n",
       "      <td>2</td>\n",
       "      <td>0.350</td>\n",
       "      <td>0.265</td>\n",
       "      <td>0.090</td>\n",
       "      <td>0.2255</td>\n",
       "      <td>0.0995</td>\n",
       "      <td>0.0485</td>\n",
       "      <td>0.0700</td>\n",
       "      <td>7</td>\n",
       "    </tr>\n",
       "    <tr>\n",
       "      <th>2</th>\n",
       "      <td>0</td>\n",
       "      <td>0.530</td>\n",
       "      <td>0.420</td>\n",
       "      <td>0.135</td>\n",
       "      <td>0.6770</td>\n",
       "      <td>0.2565</td>\n",
       "      <td>0.1415</td>\n",
       "      <td>0.2100</td>\n",
       "      <td>9</td>\n",
       "    </tr>\n",
       "    <tr>\n",
       "      <th>3</th>\n",
       "      <td>2</td>\n",
       "      <td>0.440</td>\n",
       "      <td>0.365</td>\n",
       "      <td>0.125</td>\n",
       "      <td>0.5160</td>\n",
       "      <td>0.2155</td>\n",
       "      <td>0.1140</td>\n",
       "      <td>0.1550</td>\n",
       "      <td>10</td>\n",
       "    </tr>\n",
       "    <tr>\n",
       "      <th>4</th>\n",
       "      <td>1</td>\n",
       "      <td>0.330</td>\n",
       "      <td>0.255</td>\n",
       "      <td>0.080</td>\n",
       "      <td>0.2050</td>\n",
       "      <td>0.0895</td>\n",
       "      <td>0.0395</td>\n",
       "      <td>0.0550</td>\n",
       "      <td>7</td>\n",
       "    </tr>\n",
       "    <tr>\n",
       "      <th>...</th>\n",
       "      <td>...</td>\n",
       "      <td>...</td>\n",
       "      <td>...</td>\n",
       "      <td>...</td>\n",
       "      <td>...</td>\n",
       "      <td>...</td>\n",
       "      <td>...</td>\n",
       "      <td>...</td>\n",
       "      <td>...</td>\n",
       "    </tr>\n",
       "    <tr>\n",
       "      <th>4172</th>\n",
       "      <td>0</td>\n",
       "      <td>0.565</td>\n",
       "      <td>0.450</td>\n",
       "      <td>0.165</td>\n",
       "      <td>0.8870</td>\n",
       "      <td>0.3700</td>\n",
       "      <td>0.2390</td>\n",
       "      <td>0.2490</td>\n",
       "      <td>11</td>\n",
       "    </tr>\n",
       "    <tr>\n",
       "      <th>4173</th>\n",
       "      <td>2</td>\n",
       "      <td>0.590</td>\n",
       "      <td>0.440</td>\n",
       "      <td>0.135</td>\n",
       "      <td>0.9660</td>\n",
       "      <td>0.4390</td>\n",
       "      <td>0.2145</td>\n",
       "      <td>0.2605</td>\n",
       "      <td>10</td>\n",
       "    </tr>\n",
       "    <tr>\n",
       "      <th>4174</th>\n",
       "      <td>2</td>\n",
       "      <td>0.600</td>\n",
       "      <td>0.475</td>\n",
       "      <td>0.205</td>\n",
       "      <td>1.1760</td>\n",
       "      <td>0.5255</td>\n",
       "      <td>0.2875</td>\n",
       "      <td>0.3080</td>\n",
       "      <td>9</td>\n",
       "    </tr>\n",
       "    <tr>\n",
       "      <th>4175</th>\n",
       "      <td>0</td>\n",
       "      <td>0.625</td>\n",
       "      <td>0.485</td>\n",
       "      <td>0.150</td>\n",
       "      <td>1.0945</td>\n",
       "      <td>0.5310</td>\n",
       "      <td>0.2610</td>\n",
       "      <td>0.2960</td>\n",
       "      <td>10</td>\n",
       "    </tr>\n",
       "    <tr>\n",
       "      <th>4176</th>\n",
       "      <td>2</td>\n",
       "      <td>0.710</td>\n",
       "      <td>0.555</td>\n",
       "      <td>0.195</td>\n",
       "      <td>1.9485</td>\n",
       "      <td>0.9455</td>\n",
       "      <td>0.3765</td>\n",
       "      <td>0.4950</td>\n",
       "      <td>12</td>\n",
       "    </tr>\n",
       "  </tbody>\n",
       "</table>\n",
       "<p>4027 rows × 9 columns</p>\n",
       "</div>"
      ],
      "text/plain": [
       "      Sex  Length  Diameter  Height  Whole weight  Shucked weight  \\\n",
       "0       2   0.455     0.365   0.095        0.5140          0.2245   \n",
       "1       2   0.350     0.265   0.090        0.2255          0.0995   \n",
       "2       0   0.530     0.420   0.135        0.6770          0.2565   \n",
       "3       2   0.440     0.365   0.125        0.5160          0.2155   \n",
       "4       1   0.330     0.255   0.080        0.2050          0.0895   \n",
       "...   ...     ...       ...     ...           ...             ...   \n",
       "4172    0   0.565     0.450   0.165        0.8870          0.3700   \n",
       "4173    2   0.590     0.440   0.135        0.9660          0.4390   \n",
       "4174    2   0.600     0.475   0.205        1.1760          0.5255   \n",
       "4175    0   0.625     0.485   0.150        1.0945          0.5310   \n",
       "4176    2   0.710     0.555   0.195        1.9485          0.9455   \n",
       "\n",
       "      Viscera weight  Shell weight  Rings  \n",
       "0             0.1010        0.1500     15  \n",
       "1             0.0485        0.0700      7  \n",
       "2             0.1415        0.2100      9  \n",
       "3             0.1140        0.1550     10  \n",
       "4             0.0395        0.0550      7  \n",
       "...              ...           ...    ...  \n",
       "4172          0.2390        0.2490     11  \n",
       "4173          0.2145        0.2605     10  \n",
       "4174          0.2875        0.3080      9  \n",
       "4175          0.2610        0.2960     10  \n",
       "4176          0.3765        0.4950     12  \n",
       "\n",
       "[4027 rows x 9 columns]"
      ]
     },
     "execution_count": 164,
     "metadata": {},
     "output_type": "execute_result"
    }
   ],
   "source": [
    "df_n=df[(z<3).all(axis=1)]\n",
    "df_n"
   ]
  },
  {
   "cell_type": "code",
   "execution_count": 165,
   "id": "e045d24d",
   "metadata": {},
   "outputs": [
    {
     "data": {
      "text/plain": [
       "(4177, 9)"
      ]
     },
     "execution_count": 165,
     "metadata": {},
     "output_type": "execute_result"
    }
   ],
   "source": [
    "df.shape"
   ]
  },
  {
   "cell_type": "code",
   "execution_count": 166,
   "id": "37a58616",
   "metadata": {},
   "outputs": [
    {
     "name": "stdout",
     "output_type": "stream",
     "text": [
      "Data loss\n"
     ]
    },
    {
     "data": {
      "text/plain": [
       "3.5910940866650707"
      ]
     },
     "execution_count": 166,
     "metadata": {},
     "output_type": "execute_result"
    }
   ],
   "source": [
    "print('Data loss')\n",
    "((4177-4027)/4177)*100"
   ]
  },
  {
   "cell_type": "markdown",
   "id": "d0bac7bd",
   "metadata": {},
   "source": [
    "From the multi colinearity we can drop 'Length','Shucked weight' columns"
   ]
  },
  {
   "cell_type": "code",
   "execution_count": 167,
   "id": "b892979f",
   "metadata": {},
   "outputs": [],
   "source": [
    "df_n=df_n.drop(['Length','Shucked weight'],axis=1)"
   ]
  },
  {
   "cell_type": "code",
   "execution_count": 168,
   "id": "8632f7e4",
   "metadata": {},
   "outputs": [
    {
     "data": {
      "text/html": [
       "<div>\n",
       "<style scoped>\n",
       "    .dataframe tbody tr th:only-of-type {\n",
       "        vertical-align: middle;\n",
       "    }\n",
       "\n",
       "    .dataframe tbody tr th {\n",
       "        vertical-align: top;\n",
       "    }\n",
       "\n",
       "    .dataframe thead th {\n",
       "        text-align: right;\n",
       "    }\n",
       "</style>\n",
       "<table border=\"1\" class=\"dataframe\">\n",
       "  <thead>\n",
       "    <tr style=\"text-align: right;\">\n",
       "      <th></th>\n",
       "      <th>Sex</th>\n",
       "      <th>Diameter</th>\n",
       "      <th>Height</th>\n",
       "      <th>Whole weight</th>\n",
       "      <th>Viscera weight</th>\n",
       "      <th>Shell weight</th>\n",
       "      <th>Rings</th>\n",
       "    </tr>\n",
       "  </thead>\n",
       "  <tbody>\n",
       "    <tr>\n",
       "      <th>0</th>\n",
       "      <td>2</td>\n",
       "      <td>0.365</td>\n",
       "      <td>0.095</td>\n",
       "      <td>0.5140</td>\n",
       "      <td>0.1010</td>\n",
       "      <td>0.1500</td>\n",
       "      <td>15</td>\n",
       "    </tr>\n",
       "    <tr>\n",
       "      <th>1</th>\n",
       "      <td>2</td>\n",
       "      <td>0.265</td>\n",
       "      <td>0.090</td>\n",
       "      <td>0.2255</td>\n",
       "      <td>0.0485</td>\n",
       "      <td>0.0700</td>\n",
       "      <td>7</td>\n",
       "    </tr>\n",
       "    <tr>\n",
       "      <th>2</th>\n",
       "      <td>0</td>\n",
       "      <td>0.420</td>\n",
       "      <td>0.135</td>\n",
       "      <td>0.6770</td>\n",
       "      <td>0.1415</td>\n",
       "      <td>0.2100</td>\n",
       "      <td>9</td>\n",
       "    </tr>\n",
       "    <tr>\n",
       "      <th>3</th>\n",
       "      <td>2</td>\n",
       "      <td>0.365</td>\n",
       "      <td>0.125</td>\n",
       "      <td>0.5160</td>\n",
       "      <td>0.1140</td>\n",
       "      <td>0.1550</td>\n",
       "      <td>10</td>\n",
       "    </tr>\n",
       "    <tr>\n",
       "      <th>4</th>\n",
       "      <td>1</td>\n",
       "      <td>0.255</td>\n",
       "      <td>0.080</td>\n",
       "      <td>0.2050</td>\n",
       "      <td>0.0395</td>\n",
       "      <td>0.0550</td>\n",
       "      <td>7</td>\n",
       "    </tr>\n",
       "    <tr>\n",
       "      <th>...</th>\n",
       "      <td>...</td>\n",
       "      <td>...</td>\n",
       "      <td>...</td>\n",
       "      <td>...</td>\n",
       "      <td>...</td>\n",
       "      <td>...</td>\n",
       "      <td>...</td>\n",
       "    </tr>\n",
       "    <tr>\n",
       "      <th>4172</th>\n",
       "      <td>0</td>\n",
       "      <td>0.450</td>\n",
       "      <td>0.165</td>\n",
       "      <td>0.8870</td>\n",
       "      <td>0.2390</td>\n",
       "      <td>0.2490</td>\n",
       "      <td>11</td>\n",
       "    </tr>\n",
       "    <tr>\n",
       "      <th>4173</th>\n",
       "      <td>2</td>\n",
       "      <td>0.440</td>\n",
       "      <td>0.135</td>\n",
       "      <td>0.9660</td>\n",
       "      <td>0.2145</td>\n",
       "      <td>0.2605</td>\n",
       "      <td>10</td>\n",
       "    </tr>\n",
       "    <tr>\n",
       "      <th>4174</th>\n",
       "      <td>2</td>\n",
       "      <td>0.475</td>\n",
       "      <td>0.205</td>\n",
       "      <td>1.1760</td>\n",
       "      <td>0.2875</td>\n",
       "      <td>0.3080</td>\n",
       "      <td>9</td>\n",
       "    </tr>\n",
       "    <tr>\n",
       "      <th>4175</th>\n",
       "      <td>0</td>\n",
       "      <td>0.485</td>\n",
       "      <td>0.150</td>\n",
       "      <td>1.0945</td>\n",
       "      <td>0.2610</td>\n",
       "      <td>0.2960</td>\n",
       "      <td>10</td>\n",
       "    </tr>\n",
       "    <tr>\n",
       "      <th>4176</th>\n",
       "      <td>2</td>\n",
       "      <td>0.555</td>\n",
       "      <td>0.195</td>\n",
       "      <td>1.9485</td>\n",
       "      <td>0.3765</td>\n",
       "      <td>0.4950</td>\n",
       "      <td>12</td>\n",
       "    </tr>\n",
       "  </tbody>\n",
       "</table>\n",
       "<p>4027 rows × 7 columns</p>\n",
       "</div>"
      ],
      "text/plain": [
       "      Sex  Diameter  Height  Whole weight  Viscera weight  Shell weight  Rings\n",
       "0       2     0.365   0.095        0.5140          0.1010        0.1500     15\n",
       "1       2     0.265   0.090        0.2255          0.0485        0.0700      7\n",
       "2       0     0.420   0.135        0.6770          0.1415        0.2100      9\n",
       "3       2     0.365   0.125        0.5160          0.1140        0.1550     10\n",
       "4       1     0.255   0.080        0.2050          0.0395        0.0550      7\n",
       "...   ...       ...     ...           ...             ...           ...    ...\n",
       "4172    0     0.450   0.165        0.8870          0.2390        0.2490     11\n",
       "4173    2     0.440   0.135        0.9660          0.2145        0.2605     10\n",
       "4174    2     0.475   0.205        1.1760          0.2875        0.3080      9\n",
       "4175    0     0.485   0.150        1.0945          0.2610        0.2960     10\n",
       "4176    2     0.555   0.195        1.9485          0.3765        0.4950     12\n",
       "\n",
       "[4027 rows x 7 columns]"
      ]
     },
     "execution_count": 168,
     "metadata": {},
     "output_type": "execute_result"
    }
   ],
   "source": [
    "df_n"
   ]
  },
  {
   "cell_type": "code",
   "execution_count": 169,
   "id": "87f8dcb6",
   "metadata": {},
   "outputs": [],
   "source": [
    "x=df_n.iloc[:,0:-1]\n",
    "y=df_n.iloc[:,-1]"
   ]
  },
  {
   "cell_type": "markdown",
   "id": "2be6eeb5",
   "metadata": {},
   "source": [
    "# Remove skewness"
   ]
  },
  {
   "cell_type": "code",
   "execution_count": 170,
   "id": "f8eef64f",
   "metadata": {},
   "outputs": [],
   "source": [
    "from sklearn.preprocessing import power_transform\n",
    "x=power_transform(x,method='yeo-johnson')\n",
    "x=pd.DataFrame(x)"
   ]
  },
  {
   "cell_type": "code",
   "execution_count": 171,
   "id": "6d456ca2",
   "metadata": {},
   "outputs": [
    {
     "data": {
      "text/plain": [
       "0   -0.174523\n",
       "1   -0.080956\n",
       "2   -0.015962\n",
       "3   -0.016797\n",
       "4    0.035902\n",
       "5    0.016660\n",
       "dtype: float64"
      ]
     },
     "execution_count": 171,
     "metadata": {},
     "output_type": "execute_result"
    }
   ],
   "source": [
    "x.skew()"
   ]
  },
  {
   "cell_type": "markdown",
   "id": "15029b09",
   "metadata": {},
   "source": [
    "# Scalling"
   ]
  },
  {
   "cell_type": "code",
   "execution_count": 172,
   "id": "9d59cbe2",
   "metadata": {},
   "outputs": [],
   "source": [
    "sc=StandardScaler()\n",
    "x1=sc.fit_transform(x)"
   ]
  },
  {
   "cell_type": "code",
   "execution_count": 173,
   "id": "dd5beafd",
   "metadata": {},
   "outputs": [],
   "source": [
    "from sklearn.linear_model import LinearRegression\n",
    "from sklearn.model_selection import train_test_split\n",
    "from sklearn.metrics import r2_score,mean_absolute_error,mean_squared_error\n",
    "lr=LinearRegression()"
   ]
  },
  {
   "cell_type": "markdown",
   "id": "34633776",
   "metadata": {},
   "source": [
    "Select best random State"
   ]
  },
  {
   "cell_type": "code",
   "execution_count": 174,
   "id": "e9c042d4",
   "metadata": {},
   "outputs": [
    {
     "name": "stdout",
     "output_type": "stream",
     "text": [
      "Random state 153\n",
      "Train score 45.32319919824531\n",
      "Test score 45.3141210768124\n",
      "Random state 184\n",
      "Train score 45.30802068082244\n",
      "Test score 45.25675474713077\n",
      "Random state 188\n",
      "Train score 45.27794268004839\n",
      "Test score 45.28428339610954\n",
      "Random state 218\n",
      "Train score 45.31117993572501\n",
      "Test score 45.26928672921233\n",
      "Random state 294\n",
      "Train score 45.2568880479955\n",
      "Test score 45.31387151441818\n"
     ]
    }
   ],
   "source": [
    "for i in range(1,300):\n",
    "    x_train,x_test,y_train,y_test=train_test_split(x1,y,test_size=0.30,random_state=i)\n",
    "    lr.fit(x_train,y_train)\n",
    "    pred_tr=lr.predict(x_train)\n",
    "    pred_te=lr.predict(x_test)\n",
    "    if round(r2_score(y_train,pred_tr)*100,1)==round(r2_score(y_test,pred_te)*100,1):\n",
    "        print('Random state',i)\n",
    "        print('Train score',r2_score(y_train,pred_tr)*100)\n",
    "        print('Test score',r2_score(y_test,pred_te)*100) "
   ]
  },
  {
   "cell_type": "code",
   "execution_count": 175,
   "id": "f63e9415",
   "metadata": {},
   "outputs": [
    {
     "name": "stdout",
     "output_type": "stream",
     "text": [
      "Intercept: 9.752109027742598\n",
      "\n",
      "Train score: 45.32319919824531\n",
      "R2_score:  45.3141210768124\n",
      "\n",
      "Error1:  1.5561445218229062\n",
      "Error2 RMSE:  2.106745332787577\n"
     ]
    }
   ],
   "source": [
    "lr=LinearRegression(fit_intercept=True,normalize=False,positive=False)\n",
    "x_train,x_test,y_train,y_test=train_test_split(x,y,test_size=0.30,random_state=153)\n",
    "lr.fit(x_train,y_train)\n",
    "print('Intercept:',lr.intercept_)\n",
    "print('\\nTrain score:',lr.score(x_train,y_train)*100)\n",
    "pred=lr.predict(x_test)\n",
    "print('R2_score: ',r2_score(y_test,pred)*100)\n",
    "print('\\nError1: ',mean_absolute_error(y_test,pred))\n",
    "print('Error2 RMSE: ',np.sqrt(mean_squared_error(y_test,pred)))"
   ]
  },
  {
   "cell_type": "markdown",
   "id": "fe156fab",
   "metadata": {},
   "source": [
    "# Regularization"
   ]
  },
  {
   "cell_type": "code",
   "execution_count": 176,
   "id": "1ca021b8",
   "metadata": {},
   "outputs": [],
   "source": [
    "from sklearn.linear_model import Lasso,Ridge,ElasticNet"
   ]
  },
  {
   "cell_type": "code",
   "execution_count": 177,
   "id": "55559e37",
   "metadata": {},
   "outputs": [],
   "source": [
    "l1=Lasso()\n",
    "l2=Ridge()\n",
    "l3=ElasticNet()\n",
    "def regul(f):\n",
    "    f.fit(x_train,y_train)\n",
    "    print(f,'\\n\\t',f.score(x_train,y_train)*100)\n",
    "    pred=f.predict(x_test)\n",
    "    print('R2_score :',r2_score(y_test,pred)*100)\n",
    "    print('error1:\\n:',mean_absolute_error(y_test,pred))\n",
    "    print('RSME:\\n:',np.sqrt(mean_squared_error(y_test,pred)))"
   ]
  },
  {
   "cell_type": "code",
   "execution_count": 178,
   "id": "f6ccbafc",
   "metadata": {},
   "outputs": [
    {
     "name": "stdout",
     "output_type": "stream",
     "text": [
      "Lasso() \n",
      "\t 28.510849374635782\n",
      "R2_score : 28.24154252106592\n",
      "error1:\n",
      ": 1.8185845293235847\n",
      "RSME:\n",
      ": 2.4132982026800294\n"
     ]
    }
   ],
   "source": [
    "regul(l1)"
   ]
  },
  {
   "cell_type": "code",
   "execution_count": 179,
   "id": "576101eb",
   "metadata": {},
   "outputs": [
    {
     "name": "stdout",
     "output_type": "stream",
     "text": [
      "Ridge() \n",
      "\t 45.32206400082425\n",
      "R2_score : 45.309571628559006\n",
      "error1:\n",
      ": 1.55661541290378\n",
      "RSME:\n",
      ": 2.106832963540997\n"
     ]
    }
   ],
   "source": [
    "regul(l2)"
   ]
  },
  {
   "cell_type": "code",
   "execution_count": 180,
   "id": "6756ee52",
   "metadata": {},
   "outputs": [
    {
     "name": "stdout",
     "output_type": "stream",
     "text": [
      "ElasticNet() \n",
      "\t 33.33489192162299\n",
      "R2_score : 32.94559361139496\n",
      "error1:\n",
      ": 1.763290248027827\n",
      "RSME:\n",
      ": 2.3328569202409675\n"
     ]
    }
   ],
   "source": [
    "regul(l3)"
   ]
  },
  {
   "cell_type": "markdown",
   "id": "f5086ae3",
   "metadata": {},
   "source": [
    "# Use hyperparameter tuning on L2 base on score"
   ]
  },
  {
   "cell_type": "code",
   "execution_count": 181,
   "id": "c2bea9c2",
   "metadata": {},
   "outputs": [],
   "source": [
    "from sklearn.model_selection import GridSearchCV"
   ]
  },
  {
   "cell_type": "code",
   "execution_count": 182,
   "id": "6714d5ae",
   "metadata": {},
   "outputs": [
    {
     "name": "stdout",
     "output_type": "stream",
     "text": [
      "Ridge() 0.4495551428105625\n",
      "Ridge() {'alpha': 1, 'fit_intercept': True, 'normalize': False, 'solver': 'saga', 'tol': 0.001}\n"
     ]
    }
   ],
   "source": [
    "pr1={'alpha':[1,0.1,0.01,0.001,0.0001,10],'fit_intercept':[True,False],'normalize':[True,False],'solver':['auto','svd','cholesky','lsqr','sparse_cg','sag','saga'],'tol':[0.001]}\n",
    "m1=Ridge()\n",
    "grid=GridSearchCV(estimator=m1,param_grid=pr1)\n",
    "grid.fit(x_train,y_train)\n",
    "print(m1,grid.best_score_)\n",
    "print(m1,grid.best_params_)"
   ]
  },
  {
   "cell_type": "code",
   "execution_count": 183,
   "id": "ff6bb816",
   "metadata": {},
   "outputs": [],
   "source": [
    "m1_n=Ridge(alpha=1,fit_intercept=True,normalize=False,solver='sag',tol=0.001)"
   ]
  },
  {
   "cell_type": "code",
   "execution_count": 184,
   "id": "447b99c4",
   "metadata": {},
   "outputs": [
    {
     "name": "stdout",
     "output_type": "stream",
     "text": [
      "Ridge(alpha=1, solver='sag') \n",
      "\t 45.3220568367388\n",
      "R2_score : 45.31342399016508\n",
      "error1:\n",
      ": 1.5564936864198762\n",
      "RSME:\n",
      ": 2.106758760196898\n"
     ]
    }
   ],
   "source": [
    "m1_n.fit(x_train,y_train)\n",
    "print(m1_n,'\\n\\t',m1_n.score(x_train,y_train)*100)\n",
    "pred_rig=m1_n.predict(x_test)\n",
    "print('R2_score :',r2_score(y_test,pred_rig)*100)\n",
    "print('error1:\\n:',mean_absolute_error(y_test,pred_rig))\n",
    "print('RSME:\\n:',np.sqrt(mean_squared_error(y_test,pred_rig)))"
   ]
  },
  {
   "cell_type": "markdown",
   "id": "af575c6c",
   "metadata": {},
   "source": [
    "# Other Regressors"
   ]
  },
  {
   "cell_type": "code",
   "execution_count": 185,
   "id": "bc9a312e",
   "metadata": {},
   "outputs": [],
   "source": [
    "from sklearn.tree import DecisionTreeRegressor\n",
    "from sklearn.svm import SVR\n",
    "from sklearn.neighbors import KNeighborsRegressor\n",
    "from sklearn.linear_model import SGDRegressor"
   ]
  },
  {
   "cell_type": "code",
   "execution_count": 186,
   "id": "8e28e77a",
   "metadata": {},
   "outputs": [],
   "source": [
    "dtc=DecisionTreeRegressor()\n",
    "svrp=SVR(kernel='poly')\n",
    "svrl=SVR(kernel='linear')\n",
    "svr=SVR()        \n",
    "kn=KNeighborsRegressor(n_neighbors=5)\n",
    "sgd=SGDRegressor()"
   ]
  },
  {
   "cell_type": "code",
   "execution_count": 217,
   "id": "00bb83d1",
   "metadata": {},
   "outputs": [],
   "source": [
    "def regressor(f):\n",
    "    f.fit(x_train,y_train)\n",
    "    print(f,'\\n',f.score(x_train,y_train)*100)\n",
    "    pred=f.predict(x_test)\n",
    "    print('error1:\\n',mean_absolute_error(y_test,pred))\n",
    "    print('RSME:\\n',np.sqrt(mean_squared_error(y_test,pred)))\n",
    "    print('r2 score:\\n',r2_score(y_test,pred)*100)"
   ]
  },
  {
   "cell_type": "code",
   "execution_count": 218,
   "id": "24c956c1",
   "metadata": {},
   "outputs": [
    {
     "name": "stdout",
     "output_type": "stream",
     "text": [
      "DecisionTreeRegressor() \n",
      " 100.0\n",
      "error1:\n",
      " 2.042183622828784\n",
      "RSME:\n",
      " 2.887610796573815\n",
      "r2 score:\n",
      " -2.7373665936396785\n"
     ]
    }
   ],
   "source": [
    "regressor(dtc)"
   ]
  },
  {
   "cell_type": "code",
   "execution_count": 219,
   "id": "da35367d",
   "metadata": {},
   "outputs": [
    {
     "name": "stdout",
     "output_type": "stream",
     "text": [
      "SVR() \n",
      " 49.15392163307442\n",
      "error1:\n",
      " 1.4405477659320431\n",
      "RSME:\n",
      " 2.0592086837012946\n",
      "r2 score:\n",
      " 47.75414538043737\n"
     ]
    }
   ],
   "source": [
    "regressor(svr)"
   ]
  },
  {
   "cell_type": "code",
   "execution_count": 220,
   "id": "d6ef432a",
   "metadata": {},
   "outputs": [
    {
     "name": "stdout",
     "output_type": "stream",
     "text": [
      "SVR(kernel='poly') \n",
      " 31.151087912780685\n",
      "error1:\n",
      " 1.597752371157672\n",
      "RSME:\n",
      " 2.29415731473321\n",
      "r2 score:\n",
      " 35.151862745498995\n"
     ]
    }
   ],
   "source": [
    "regressor(svrp)"
   ]
  },
  {
   "cell_type": "code",
   "execution_count": 221,
   "id": "654d05d9",
   "metadata": {},
   "outputs": [
    {
     "name": "stdout",
     "output_type": "stream",
     "text": [
      "SVR(kernel='linear') \n",
      " 42.70958070348249\n",
      "error1:\n",
      " 1.5084277011750116\n",
      "RSME:\n",
      " 2.149215874292398\n",
      "r2 score:\n",
      " 43.087037195468035\n"
     ]
    }
   ],
   "source": [
    "regressor(svrl)"
   ]
  },
  {
   "cell_type": "code",
   "execution_count": 222,
   "id": "cb9de211",
   "metadata": {},
   "outputs": [
    {
     "name": "stdout",
     "output_type": "stream",
     "text": [
      "KNeighborsRegressor() \n",
      " 63.54723872853123\n",
      "error1:\n",
      " 1.5923904052936309\n",
      "RSME:\n",
      " 2.166562954825187\n",
      "r2 score:\n",
      " 42.16460024664529\n"
     ]
    }
   ],
   "source": [
    "regressor(kn)"
   ]
  },
  {
   "cell_type": "code",
   "execution_count": 223,
   "id": "ab26397f",
   "metadata": {},
   "outputs": [
    {
     "name": "stdout",
     "output_type": "stream",
     "text": [
      "SGDRegressor() \n",
      " 45.06154916612344\n",
      "error1:\n",
      " 1.5624803761362749\n",
      "RSME:\n",
      " 2.11054633734024\n",
      "r2 score:\n",
      " 45.11661378070699\n"
     ]
    }
   ],
   "source": [
    "regressor(sgd)"
   ]
  },
  {
   "cell_type": "markdown",
   "id": "757ad662",
   "metadata": {},
   "source": [
    "Do hyperparameter tuning on two models base on score"
   ]
  },
  {
   "cell_type": "code",
   "execution_count": 194,
   "id": "ade7a4e7",
   "metadata": {},
   "outputs": [
    {
     "name": "stdout",
     "output_type": "stream",
     "text": [
      "SVR() 0.47229771917172486\n",
      "SVR() {'gamma': 'auto', 'kernel': 'rbf', 'tol': 0.0001}\n"
     ]
    }
   ],
   "source": [
    "pa1={'kernel':['poly','rbf','linear'],'gamma':['scale','auto'],'tol':[0.01,0.001,0.0001],}\n",
    "md1=SVR()\n",
    "grid=GridSearchCV(estimator=md1,param_grid=pa1)\n",
    "grid.fit(x_train,y_train)\n",
    "print(md1,grid.best_score_)\n",
    "print(md1,grid.best_params_)\n"
   ]
  },
  {
   "cell_type": "code",
   "execution_count": 195,
   "id": "0b042d20",
   "metadata": {},
   "outputs": [
    {
     "name": "stdout",
     "output_type": "stream",
     "text": [
      "SGDRegressor() 0.44975363318126893\n",
      "SGDRegressor() {'alpha': 0.0001, 'loss': 'squared_epsilon_insensitive', 'penalty': 'l1', 'random_state': 83}\n"
     ]
    }
   ],
   "source": [
    "pa3={'loss':['squared_loss','huber','epsilon_insensitive','squared_epsilon_insensitive'],'penalty':['l1','l2','elasticnet'],'alpha':[10,0.1,0.01,0.001,0.0001,0.00001],'random_state':range(1,100)}\n",
    "md3=SGDRegressor()\n",
    "grid=GridSearchCV(estimator=md3,param_grid=pa3)\n",
    "grid.fit(x_train,y_train)\n",
    "print(md3,grid.best_score_)\n",
    "print(md3,grid.best_params_)"
   ]
  },
  {
   "cell_type": "code",
   "execution_count": 196,
   "id": "4fe56974",
   "metadata": {},
   "outputs": [],
   "source": [
    "svr1=SVR(gamma='auto',kernel ='rbf',tol= 0.0001)\n",
    "sg=SGDRegressor(alpha=0.0001, loss= 'squared_epsilon_insensitive', penalty= 'l1', random_state= 83)"
   ]
  },
  {
   "cell_type": "code",
   "execution_count": 197,
   "id": "140448ac",
   "metadata": {},
   "outputs": [
    {
     "name": "stdout",
     "output_type": "stream",
     "text": [
      "SVR(gamma='auto', tol=0.0001) \n",
      " 49.16320530416378\n",
      "error1:\n",
      " 1.4404234004641336\n",
      "RSME:\n",
      " 2.05916423191646\n",
      "r2 score:\n",
      " 47.756401000705104\n"
     ]
    }
   ],
   "source": [
    "regressor(svr1)"
   ]
  },
  {
   "cell_type": "code",
   "execution_count": 198,
   "id": "00e8989d",
   "metadata": {},
   "outputs": [
    {
     "name": "stdout",
     "output_type": "stream",
     "text": [
      "SGDRegressor(loss='squared_epsilon_insensitive', penalty='l1', random_state=83) \n",
      " 45.17021885202309\n",
      "error1:\n",
      " 1.558158760645899\n",
      "RSME:\n",
      " 2.1104168290223675\n",
      "r2 score:\n",
      " 45.12334913337367\n"
     ]
    }
   ],
   "source": [
    "regressor(sg)"
   ]
  },
  {
   "cell_type": "markdown",
   "id": "0bb36490",
   "metadata": {},
   "source": [
    "# Ensemble methods"
   ]
  },
  {
   "cell_type": "code",
   "execution_count": 235,
   "id": "e1671e11",
   "metadata": {},
   "outputs": [],
   "source": [
    "from sklearn.ensemble import RandomForestRegressor,AdaBoostRegressor,GradientBoostingRegressor\n",
    "from sklearn.model_selection import cross_val_score,KFold"
   ]
  },
  {
   "cell_type": "code",
   "execution_count": 200,
   "id": "594e0951",
   "metadata": {},
   "outputs": [],
   "source": [
    "ensemble=[RandomForestRegressor(),AdaBoostRegressor(),GradientBoostingRegressor()]"
   ]
  },
  {
   "cell_type": "code",
   "execution_count": 224,
   "id": "d0c158b7",
   "metadata": {},
   "outputs": [
    {
     "name": "stdout",
     "output_type": "stream",
     "text": [
      "\n",
      " \n",
      "score:  RandomForestRegressor() :\n",
      " 92.59869567984322\n",
      " R2 score: 49.04008321707736\n",
      "error1:\n",
      " 1.4828453267162944\n",
      "RSME:\n",
      " 2.033708937633592\n",
      "\n",
      " \n",
      "score:  AdaBoostRegressor() :\n",
      " 39.50018548661639\n",
      " R2 score: 34.32036322663154\n",
      "error1:\n",
      " 1.86580778213879\n",
      "RSME:\n",
      " 2.308818604718858\n",
      "\n",
      " \n",
      "score:  GradientBoostingRegressor() :\n",
      " 59.44134305442957\n",
      " R2 score: 48.81424458246592\n",
      "error1:\n",
      " 1.4740075628926277\n",
      "RSME:\n",
      " 2.038210341335852\n"
     ]
    }
   ],
   "source": [
    "for i in ensemble:\n",
    "    i.fit(x_train,y_train)\n",
    "    print('\\n \\nscore: ',i,':\\n',i.score(x_train,y_train)*100)\n",
    "    pred=i.predict(x_test)\n",
    "    print(' R2 score:',r2_score(y_test,pred)*100)\n",
    "    print('error1:\\n',mean_absolute_error(y_test,pred))\n",
    "    print('RSME:\\n',np.sqrt(mean_squared_error(y_test,pred)))"
   ]
  },
  {
   "cell_type": "code",
   "execution_count": 202,
   "id": "5483f8e5",
   "metadata": {},
   "outputs": [
    {
     "name": "stdout",
     "output_type": "stream",
     "text": [
      "GradientBoostingRegressor() 0.4901853013978907\n",
      "{'criterion': 'friedman_mse', 'learning_rate': 0.1, 'loss': 'ls', 'max_features': 'auto'}\n"
     ]
    }
   ],
   "source": [
    "p3={'loss':['ls','lad','huber'],'learning_rate':[0.1,0.01,0.001,],'criterion':['friedman_mse','mse'],'max_features':['auto','sqrt','log2']}\n",
    "m3=GradientBoostingRegressor()\n",
    "grid=GridSearchCV(estimator=m3,param_grid=p3)\n",
    "grid.fit(x_train,y_train)\n",
    "print(m3,grid.best_score_)\n",
    "print(grid.best_params_)"
   ]
  },
  {
   "cell_type": "code",
   "execution_count": 203,
   "id": "55b5cd50",
   "metadata": {},
   "outputs": [
    {
     "name": "stdout",
     "output_type": "stream",
     "text": [
      "Ridge(alpha=1, solver='sag') \n",
      "\t 59.44134305442957\n",
      "R2_score : 48.88998389338725\n",
      "error1:\n",
      ": 1.4727451411808041\n",
      "RSME:\n",
      ": 2.036701818174412\n"
     ]
    }
   ],
   "source": [
    "m2=GradientBoostingRegressor(criterion='mse',learning_rate=0.1, loss='ls', max_features= 'auto')\n",
    "m2.fit(x_train,y_train)\n",
    "print(m1_n,'\\n\\t',m2.score(x_train,y_train)*100)\n",
    "pred_gd=m2.predict(x_test)\n",
    "print('R2_score :',r2_score(y_test,pred_gd)*100)\n",
    "print('error1:\\n:',mean_absolute_error(y_test,pred_gd))\n",
    "print('RSME:\\n:',np.sqrt(mean_squared_error(y_test,pred_gd)))"
   ]
  },
  {
   "cell_type": "code",
   "execution_count": 207,
   "id": "2f68468e",
   "metadata": {},
   "outputs": [
    {
     "name": "stdout",
     "output_type": "stream",
     "text": [
      "cv value: 2\n",
      "cross value score: 45.94528928179763\n",
      "actual score: 48.85591869018731\n",
      "cv value: 3\n",
      "cross value score: 47.02803108180413\n",
      "actual score: 48.85591869018731\n",
      "cv value: 4\n",
      "cross value score: 47.049912906430706\n",
      "actual score: 48.85591869018731\n",
      "cv value: 5\n",
      "cross value score: 47.229771917172485\n",
      "actual score: 48.85591869018731\n",
      "cv value: 6\n",
      "cross value score: 47.52641700557156\n",
      "actual score: 48.85591869018731\n",
      "cv value: 7\n",
      "cross value score: 47.37256490705017\n",
      "actual score: 48.85591869018731\n",
      "cv value: 8\n",
      "cross value score: 47.27167047338858\n",
      "actual score: 48.85591869018731\n",
      "cv value: 9\n",
      "cross value score: 47.51806046523411\n",
      "actual score: 48.85591869018731\n"
     ]
    }
   ],
   "source": [
    "for i in range(2,10):\n",
    "    crs_score=cross_val_score(svr1,x_train,y_train,cv=i)\n",
    "    score=crs_score.mean()\n",
    "    print('cv value:',i)\n",
    "    print('cross value score:',score*100)\n",
    "    print('actual score:',r2_score(y_test,pred)*100)"
   ]
  },
  {
   "cell_type": "code",
   "execution_count": 237,
   "id": "89febc71",
   "metadata": {},
   "outputs": [
    {
     "name": "stdout",
     "output_type": "stream",
     "text": [
      "0.4485391701776854\n"
     ]
    }
   ],
   "source": [
    "score2=cross_val_score(lr,x_train,y_train,cv=9)\n",
    "print(score2.mean())"
   ]
  },
  {
   "cell_type": "code",
   "execution_count": 211,
   "id": "469a979d",
   "metadata": {},
   "outputs": [
    {
     "name": "stdout",
     "output_type": "stream",
     "text": [
      "0.4751806046523411\n"
     ]
    }
   ],
   "source": [
    "score2=cross_val_score(svr1,x_train,y_train,cv=9)\n",
    "print(score2.mean())"
   ]
  },
  {
   "cell_type": "code",
   "execution_count": 231,
   "id": "71189ee9",
   "metadata": {},
   "outputs": [
    {
     "name": "stdout",
     "output_type": "stream",
     "text": [
      "0.28283447423531394\n"
     ]
    }
   ],
   "source": [
    "score2=cross_val_score(l1,x_train,y_train,cv=9)\n",
    "print(score2.mean())"
   ]
  },
  {
   "cell_type": "code",
   "execution_count": 216,
   "id": "9bdadbee",
   "metadata": {},
   "outputs": [
    {
     "name": "stdout",
     "output_type": "stream",
     "text": [
      "0.4499617455271278\n"
     ]
    }
   ],
   "source": [
    "score2=cross_val_score(m1_n,x_train,y_train,cv=6)\n",
    "print(score2.mean())"
   ]
  },
  {
   "cell_type": "code",
   "execution_count": 214,
   "id": "46c2b9ef",
   "metadata": {},
   "outputs": [
    {
     "name": "stdout",
     "output_type": "stream",
     "text": [
      "0.4464185699019725\n"
     ]
    }
   ],
   "source": [
    "score2=cross_val_score(sg,x_train,y_train,cv=6)\n",
    "print(score2.mean())"
   ]
  },
  {
   "cell_type": "code",
   "execution_count": 215,
   "id": "740a3fe7",
   "metadata": {},
   "outputs": [
    {
     "name": "stdout",
     "output_type": "stream",
     "text": [
      "0.48641468867276544\n"
     ]
    }
   ],
   "source": [
    "score2=cross_val_score(m2,x_train,y_train,cv=6)\n",
    "print(score2.mean())"
   ]
  },
  {
   "cell_type": "code",
   "execution_count": 229,
   "id": "46e87c15",
   "metadata": {},
   "outputs": [
    {
     "name": "stdout",
     "output_type": "stream",
     "text": [
      "0.4633407806582557\n"
     ]
    }
   ],
   "source": [
    "score2=cross_val_score(RandomForestRegressor(),x_train,y_train,cv=6)\n",
    "print(score2.mean())"
   ]
  },
  {
   "cell_type": "code",
   "execution_count": 230,
   "id": "bb32c222",
   "metadata": {},
   "outputs": [
    {
     "name": "stdout",
     "output_type": "stream",
     "text": [
      "0.3456701957333305\n"
     ]
    }
   ],
   "source": [
    "score2=cross_val_score(AdaBoostRegressor(),x_train,y_train,cv=6)\n",
    "print(score2.mean())"
   ]
  },
  {
   "cell_type": "code",
   "execution_count": 232,
   "id": "b0cc8aa7",
   "metadata": {},
   "outputs": [
    {
     "name": "stdout",
     "output_type": "stream",
     "text": [
      "-0.007664754041877497\n"
     ]
    }
   ],
   "source": [
    "score2=cross_val_score(dtc,x_train,y_train,cv=6)\n",
    "print(score2.mean())"
   ]
  },
  {
   "cell_type": "code",
   "execution_count": 233,
   "id": "712206c1",
   "metadata": {},
   "outputs": [
    {
     "name": "stdout",
     "output_type": "stream",
     "text": [
      "0.44811298861460896\n"
     ]
    }
   ],
   "source": [
    "score2=cross_val_score(kn,x_train,y_train,cv=6)\n",
    "print(score2.mean())"
   ]
  },
  {
   "cell_type": "code",
   "execution_count": 240,
   "id": "12652655",
   "metadata": {},
   "outputs": [
    {
     "data": {
      "text/html": [
       "<div>\n",
       "<style scoped>\n",
       "    .dataframe tbody tr th:only-of-type {\n",
       "        vertical-align: middle;\n",
       "    }\n",
       "\n",
       "    .dataframe tbody tr th {\n",
       "        vertical-align: top;\n",
       "    }\n",
       "\n",
       "    .dataframe thead th {\n",
       "        text-align: right;\n",
       "    }\n",
       "</style>\n",
       "<table border=\"1\" class=\"dataframe\">\n",
       "  <thead>\n",
       "    <tr style=\"text-align: right;\">\n",
       "      <th></th>\n",
       "      <th>Models</th>\n",
       "      <th>R2_score</th>\n",
       "      <th>CV_score</th>\n",
       "      <th>RMSE</th>\n",
       "    </tr>\n",
       "  </thead>\n",
       "  <tbody>\n",
       "    <tr>\n",
       "      <th>0</th>\n",
       "      <td>LR</td>\n",
       "      <td>45.31</td>\n",
       "      <td>44.840</td>\n",
       "      <td>2.10</td>\n",
       "    </tr>\n",
       "    <tr>\n",
       "      <th>1</th>\n",
       "      <td>L1</td>\n",
       "      <td>28.21</td>\n",
       "      <td>28.280</td>\n",
       "      <td>2.41</td>\n",
       "    </tr>\n",
       "    <tr>\n",
       "      <th>2</th>\n",
       "      <td>L2</td>\n",
       "      <td>45.31</td>\n",
       "      <td>44.990</td>\n",
       "      <td>2.10</td>\n",
       "    </tr>\n",
       "    <tr>\n",
       "      <th>3</th>\n",
       "      <td>DTC</td>\n",
       "      <td>-2.73</td>\n",
       "      <td>-0.007</td>\n",
       "      <td>2.88</td>\n",
       "    </tr>\n",
       "    <tr>\n",
       "      <th>4</th>\n",
       "      <td>SVR</td>\n",
       "      <td>47.75</td>\n",
       "      <td>47.510</td>\n",
       "      <td>2.05</td>\n",
       "    </tr>\n",
       "    <tr>\n",
       "      <th>5</th>\n",
       "      <td>KN</td>\n",
       "      <td>42.16</td>\n",
       "      <td>44.810</td>\n",
       "      <td>2.16</td>\n",
       "    </tr>\n",
       "    <tr>\n",
       "      <th>6</th>\n",
       "      <td>SGD</td>\n",
       "      <td>45.12</td>\n",
       "      <td>44.640</td>\n",
       "      <td>2.11</td>\n",
       "    </tr>\n",
       "    <tr>\n",
       "      <th>7</th>\n",
       "      <td>RFR</td>\n",
       "      <td>49.09</td>\n",
       "      <td>46.330</td>\n",
       "      <td>2.03</td>\n",
       "    </tr>\n",
       "    <tr>\n",
       "      <th>8</th>\n",
       "      <td>ADR</td>\n",
       "      <td>34.32</td>\n",
       "      <td>34.560</td>\n",
       "      <td>2.30</td>\n",
       "    </tr>\n",
       "    <tr>\n",
       "      <th>9</th>\n",
       "      <td>GBD</td>\n",
       "      <td>48.81</td>\n",
       "      <td>48.640</td>\n",
       "      <td>2.03</td>\n",
       "    </tr>\n",
       "  </tbody>\n",
       "</table>\n",
       "</div>"
      ],
      "text/plain": [
       "  Models  R2_score  CV_score  RMSE\n",
       "0     LR     45.31    44.840  2.10\n",
       "1     L1     28.21    28.280  2.41\n",
       "2     L2     45.31    44.990  2.10\n",
       "3    DTC     -2.73    -0.007  2.88\n",
       "4    SVR     47.75    47.510  2.05\n",
       "5     KN     42.16    44.810  2.16\n",
       "6    SGD     45.12    44.640  2.11\n",
       "7    RFR     49.09    46.330  2.03\n",
       "8    ADR     34.32    34.560  2.30\n",
       "9    GBD     48.81    48.640  2.03"
      ]
     },
     "execution_count": 240,
     "metadata": {},
     "output_type": "execute_result"
    }
   ],
   "source": [
    "pd.DataFrame({'Models':['LR','L1','L2','DTC','SVR','KN','SGD','RFR','ADR','GBD'],'R2_score':[45.31,28.21,45.31,-2.73,47.75,42.16,45.12,49.09,34.32,48.81],'CV_score':[44.84,28.28,44.99,-0.007,47.51,44.81,44.64,46.33,34.56,48.64],'RMSE':[2.10,2.41,2.10,2.88,2.05,2.16,2.11,2.03,2.30,2.03]})"
   ]
  },
  {
   "cell_type": "markdown",
   "id": "0979df38",
   "metadata": {},
   "source": [
    "Base on R2_Score,Cv_Score and RMSE GradientBoost regressor are best"
   ]
  },
  {
   "cell_type": "markdown",
   "id": "2a60689c",
   "metadata": {},
   "source": [
    "# Regression plot"
   ]
  },
  {
   "cell_type": "code",
   "execution_count": 252,
   "id": "ab10a137",
   "metadata": {},
   "outputs": [
    {
     "data": {
      "text/plain": [
       "Text(0.5, 1.0, 'Regression plot of GradientBoosting')"
      ]
     },
     "execution_count": 252,
     "metadata": {},
     "output_type": "execute_result"
    },
    {
     "data": {
      "image/png": "[encoded data removed]",
      "text/plain": [
       "<Figure size 864x576 with 1 Axes>"
      ]
     },
     "metadata": {
      "needs_background": "light"
     },
     "output_type": "display_data"
    }
   ],
   "source": [
    "plt.figure(figsize=(12,8))\n",
    "sns.regplot(y_test,pred_gd)\n",
    "plt.title('Regression plot of GradientBoosting')"
   ]
  },
  {
   "cell_type": "markdown",
   "id": "b50f640d",
   "metadata": {},
   "source": [
    "# Saving model"
   ]
  },
  {
   "cell_type": "code",
   "execution_count": 244,
   "id": "728cc72c",
   "metadata": {},
   "outputs": [
    {
     "data": {
      "text/html": [
       "<div>\n",
       "<style scoped>\n",
       "    .dataframe tbody tr th:only-of-type {\n",
       "        vertical-align: middle;\n",
       "    }\n",
       "\n",
       "    .dataframe tbody tr th {\n",
       "        vertical-align: top;\n",
       "    }\n",
       "\n",
       "    .dataframe thead th {\n",
       "        text-align: right;\n",
       "    }\n",
       "</style>\n",
       "<table border=\"1\" class=\"dataframe\">\n",
       "  <thead>\n",
       "    <tr style=\"text-align: right;\">\n",
       "      <th></th>\n",
       "      <th>Actual</th>\n",
       "      <th>Predicted</th>\n",
       "    </tr>\n",
       "  </thead>\n",
       "  <tbody>\n",
       "    <tr>\n",
       "      <th>815</th>\n",
       "      <td>7</td>\n",
       "      <td>6.478570</td>\n",
       "    </tr>\n",
       "    <tr>\n",
       "      <th>4152</th>\n",
       "      <td>7</td>\n",
       "      <td>6.821494</td>\n",
       "    </tr>\n",
       "    <tr>\n",
       "      <th>348</th>\n",
       "      <td>8</td>\n",
       "      <td>7.386511</td>\n",
       "    </tr>\n",
       "    <tr>\n",
       "      <th>28</th>\n",
       "      <td>15</td>\n",
       "      <td>11.770832</td>\n",
       "    </tr>\n",
       "    <tr>\n",
       "      <th>540</th>\n",
       "      <td>15</td>\n",
       "      <td>10.110880</td>\n",
       "    </tr>\n",
       "    <tr>\n",
       "      <th>...</th>\n",
       "      <td>...</td>\n",
       "      <td>...</td>\n",
       "    </tr>\n",
       "    <tr>\n",
       "      <th>2043</th>\n",
       "      <td>7</td>\n",
       "      <td>7.196667</td>\n",
       "    </tr>\n",
       "    <tr>\n",
       "      <th>3694</th>\n",
       "      <td>10</td>\n",
       "      <td>10.601481</td>\n",
       "    </tr>\n",
       "    <tr>\n",
       "      <th>3582</th>\n",
       "      <td>10</td>\n",
       "      <td>10.251538</td>\n",
       "    </tr>\n",
       "    <tr>\n",
       "      <th>2206</th>\n",
       "      <td>5</td>\n",
       "      <td>7.778815</td>\n",
       "    </tr>\n",
       "    <tr>\n",
       "      <th>3518</th>\n",
       "      <td>11</td>\n",
       "      <td>12.663516</td>\n",
       "    </tr>\n",
       "  </tbody>\n",
       "</table>\n",
       "<p>1209 rows × 2 columns</p>\n",
       "</div>"
      ],
      "text/plain": [
       "      Actual  Predicted\n",
       "815        7   6.478570\n",
       "4152       7   6.821494\n",
       "348        8   7.386511\n",
       "28        15  11.770832\n",
       "540       15  10.110880\n",
       "...      ...        ...\n",
       "2043       7   7.196667\n",
       "3694      10  10.601481\n",
       "3582      10  10.251538\n",
       "2206       5   7.778815\n",
       "3518      11  12.663516\n",
       "\n",
       "[1209 rows x 2 columns]"
      ]
     },
     "execution_count": 244,
     "metadata": {},
     "output_type": "execute_result"
    }
   ],
   "source": [
    "import joblib\n",
    "joblib.dump(m2,'GBRabalone.obj')\n",
    "GBRabalone=joblib.load('GBRabalone.obj')\n",
    "pd.DataFrame({'Actual':y_test,'Predicted':pred_gd})"
   ]
  },
  {
   "cell_type": "code",
   "execution_count": null,
   "id": "e05d9266",
   "metadata": {},
   "outputs": [],
   "source": []
  }
 ],
 "metadata": {
  "kernelspec": {
   "display_name": "Python 3",
   "language": "python",
   "name": "python3"
  }
 },
 "nbformat": 4,
 "nbformat_minor": 5
}
